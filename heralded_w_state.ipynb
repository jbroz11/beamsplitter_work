{
 "cells": [
  {
   "cell_type": "markdown",
   "id": "7fee9d2a-b0f4-4f4e-8c71-6aa9f5efb664",
   "metadata": {
    "tags": []
   },
   "source": [
    "# Imports"
   ]
  },
  {
   "cell_type": "code",
   "execution_count": 2,
   "id": "2e66abdd-d2cb-492f-8352-9501d187dc30",
   "metadata": {},
   "outputs": [],
   "source": [
    "using NLsolve\n",
    "using LinearAlgebra\n",
    "using QuantumOpticsBase\n",
    "using SymbolicUtils"
   ]
  },
  {
   "cell_type": "code",
   "execution_count": 3,
   "id": "1a29e972-8219-4af6-bbd9-84e58f9a945e",
   "metadata": {},
   "outputs": [],
   "source": [
    "import PyPlot\n",
    "const plt = PyPlot;"
   ]
  },
  {
   "cell_type": "code",
   "execution_count": 4,
   "id": "9bbe7983-235f-4722-b271-72bb55fccd9a",
   "metadata": {},
   "outputs": [],
   "source": [
    "include(\"common_code.jl\");"
   ]
  },
  {
   "cell_type": "code",
   "execution_count": 227,
   "id": "093d0f47-a310-4757-8785-71ab70f36b72",
   "metadata": {},
   "outputs": [],
   "source": [
    "include(\"heralded_w_state.jl\");"
   ]
  },
  {
   "cell_type": "markdown",
   "id": "d95a1f93-60a1-42ea-ad41-b76657b53dd9",
   "metadata": {},
   "source": [
    "# Quitter"
   ]
  },
  {
   "cell_type": "markdown",
   "id": "190569d1-d2a6-4d5b-ad2c-0ae6c777af07",
   "metadata": {},
   "source": [
    "## Can we distinguish W/M states?"
   ]
  },
  {
   "cell_type": "code",
   "execution_count": 263,
   "id": "dc21401a-cb71-499b-ba19-7593217c4747",
   "metadata": {},
   "outputs": [],
   "source": [
    "W1 = W(1,1,1,1)\n",
    "W2 = W(1,1,-1,-1)\n",
    "W3 = W(1,-1,-1,1)\n",
    "W4 = W(1,-1,1,-1)\n",
    "M1 = M(1,1,1,1)\n",
    "M2 = M(1,1,-1,-1)\n",
    "M3 = M(1,-1,-1,1)\n",
    "M4 = M(1,-1,1,-1)\n",
    "\n",
    "states = [\n",
    "    W1, W2, W3, W4, \n",
    "    M1, M2, M3, M4, \n",
    "    GHZ(1, N=4), GHZ(2, N=4), \n",
    "    K(1), K(2), K(3), K(4), K(5), K(6)\n",
    "];"
   ]
  },
  {
   "cell_type": "code",
   "execution_count": 264,
   "id": "b9fecada-7bcd-47e3-9e4b-2e79597e04eb",
   "metadata": {},
   "outputs": [
    {
     "data": {
      "text/plain": [
       "4×4 Matrix{Float64}:\n",
       " 0.5   0.5   0.5   0.5\n",
       " 0.5   0.5  -0.5  -0.5\n",
       " 0.5  -0.5   0.5  -0.5\n",
       " 0.5  -0.5  -0.5   0.5"
      ]
     },
     "execution_count": 264,
     "metadata": {},
     "output_type": "execute_result"
    }
   ],
   "source": [
    "# Symmetric 4-port beam splitters are constrained to the following form\n",
    "ϕv = 0\n",
    "U = ComplexF64[\n",
    "    1         1         1         1\n",
    "    1   exp(1im * ϕv)  -1  -exp(1im * ϕv)\n",
    "    1        -1         1        -1\n",
    "    1  -exp(1im * ϕv)  -1   exp(1im * ϕv)\n",
    "] / 2\n",
    "# Uk = kron(U, [1 0; 0 1])\n",
    "# sparsify.(convert(Array{Int}, 2U))\n",
    "sparsify.(U)"
   ]
  },
  {
   "cell_type": "code",
   "execution_count": 265,
   "id": "b1b90a01-cbab-494f-b2cf-095fae2ec649",
   "metadata": {},
   "outputs": [
    {
     "name": "stdout",
     "output_type": "stream",
     "text": [
      "i:9, j:10\n",
      "i:11, j:16\n",
      "i:12, j:15\n",
      "i:13, j:14\n"
     ]
    }
   ],
   "source": [
    "r = []\n",
    "for state in states\n",
    "     push!(r, singlephotonclicks(U, state))\n",
    "end\n",
    "\n",
    "for i in 1:length(states), j in i+1:length(states)\n",
    "    if commonelements(map(x->x[3], r[i]), map(x->x[3], r[j])) \n",
    "        println(\"i:$i, j:$j\")\n",
    "    end\n",
    "end"
   ]
  },
  {
   "cell_type": "code",
   "execution_count": 136,
   "id": "1f885ee7-c494-46c3-a191-283129cbe4a2",
   "metadata": {},
   "outputs": [],
   "source": []
  }
 ],
 "metadata": {
  "kernelspec": {
   "display_name": "Julia 1.7.3",
   "language": "julia",
   "name": "julia-1.7"
  },
  "language_info": {
   "file_extension": ".jl",
   "mimetype": "application/julia",
   "name": "julia",
   "version": "1.7.3"
  }
 },
 "nbformat": 4,
 "nbformat_minor": 5
}
