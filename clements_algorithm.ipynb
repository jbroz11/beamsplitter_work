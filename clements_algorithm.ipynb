{
 "cells": [
  {
   "cell_type": "markdown",
   "metadata": {
    "jp-MarkdownHeadingCollapsed": true,
    "tags": []
   },
   "source": [
    "# Imports"
   ]
  },
  {
   "cell_type": "code",
   "execution_count": 1,
   "metadata": {
    "Collapsed": "false"
   },
   "outputs": [],
   "source": [
    "using NLsolve\n",
    "using LinearAlgebra\n",
    "using Random\n",
    "using RandomMatrices"
   ]
  },
  {
   "cell_type": "code",
   "execution_count": 2,
   "metadata": {},
   "outputs": [],
   "source": [
    "import PyPlot\n",
    "const plt = PyPlot;"
   ]
  },
  {
   "cell_type": "code",
   "execution_count": 5,
   "metadata": {},
   "outputs": [],
   "source": [
    "include(\"common_code.jl\");"
   ]
  },
  {
   "cell_type": "code",
   "execution_count": 6,
   "metadata": {},
   "outputs": [],
   "source": [
    "include(\"clements_algorithm.jl\");"
   ]
  },
  {
   "cell_type": "markdown",
   "metadata": {
    "jp-MarkdownHeadingCollapsed": true,
    "tags": []
   },
   "source": [
    "# Test"
   ]
  },
  {
   "cell_type": "code",
   "execution_count": 9,
   "metadata": {},
   "outputs": [],
   "source": [
    "dim = 20\n",
    "d = Haar(2)\n",
    "R = rand(d, dim);"
   ]
  },
  {
   "cell_type": "code",
   "execution_count": 10,
   "metadata": {},
   "outputs": [
    {
     "name": "stdout",
     "output_type": "stream",
     "text": [
      "  0.034462 seconds (59.84 k allocations: 5.187 MiB, 49.84% gc time)\n"
     ]
    },
    {
     "data": {
      "text/plain": [
       "20×20 Matrix{Number}:\n",
       " -0.988939+0.14832im          0.0          …          0.0\n",
       "          0.0         0.339061-0.940764im             0.0\n",
       "          0.0                 0.0                     0.0\n",
       "          0.0                 0.0                     0.0\n",
       "          0.0                 0.0                     0.0\n",
       "          0.0                 0.0          …          0.0\n",
       "          0.0                 0.0                     0.0\n",
       "          0.0                 0.0                     0.0\n",
       "          0.0                 0.0                     0.0\n",
       "          0.0                 0.0                     0.0\n",
       "          0.0                 0.0          …          0.0\n",
       "          0.0                 0.0                     0.0\n",
       "          0.0                 0.0                     0.0\n",
       "          0.0                 0.0                     0.0\n",
       "          0.0                 0.0                     0.0\n",
       "          0.0                 0.0          …          0.0\n",
       "          0.0                 0.0                     0.0\n",
       "          0.0                 0.0                     0.0\n",
       "          0.0                 0.0                     0.0\n",
       "          0.0                 0.0             0.912305-0.409511im"
      ]
     },
     "execution_count": 10,
     "metadata": {},
     "output_type": "execute_result"
    }
   ],
   "source": [
    "@time D, c = clements_decomposition(R); sparsify.(D, 1e-6)"
   ]
  },
  {
   "cell_type": "code",
   "execution_count": 11,
   "metadata": {},
   "outputs": [
    {
     "name": "stdout",
     "output_type": "stream",
     "text": [
      "(m,n)   refl.  ϕ\n",
      "----------------------------\n",
      " 1,2:   0.52,  (477//500)π\n",
      " 3,4:   0.35,  (1017//1000)π\n",
      " 2,3:   0.19,  (51//50)π\n",
      " 1,2:   0.3,  (651//1000)π\n",
      " 5,6:   0.11,  (87//100)π\n",
      " 4,5:   0.12,  (279//200)π\n",
      " 3,4:   0.19,  (-4561//1000)π\n",
      " 2,3:   0.16,  (619//500)π\n",
      " 1,2:   0.1,  (57//50)π\n",
      " 7,8:   0.83,  (203//200)π\n",
      " 6,7:   0.27,  (1043//1000)π\n",
      " 5,6:   0.23,  (267//500)π\n",
      " 4,5:   0.04,  (1429//1000)π\n",
      " 3,4:   0.01,  (659//500)π\n",
      " 2,3:   0.03,  (501//500)π\n",
      " 1,2:   0.16,  (789//1000)π\n",
      " 9,10:   0.6,  (359//500)π\n",
      " 8,9:   0.07,  (577//500)π\n",
      " 7,8:   0.06,  (251//200)π\n",
      " 6,7:   0.07,  (1257//1000)π\n",
      " 5,6:   0.13,  (609//1000)π\n",
      " 4,5:   0.13,  (347//250)π\n",
      " 3,4:   0.22,  (667//1000)π\n",
      " 2,3:   0.06,  (1479//1000)π\n",
      " 1,2:   0.01,  (1219//1000)π\n",
      " 11,12:   0.97,  (71//125)π\n",
      " 10,11:   0.04,  (161//250)π\n",
      " 9,10:   0.02,  (943//1000)π\n",
      " 8,9:   0.16,  (-2413//1000)π\n",
      " 7,8:   0.12,  (907//1000)π\n",
      " 6,7:   0.0,  (817//1000)π\n",
      " 5,6:   0.09,  (47//50)π\n",
      " 4,5:   0.06,  (631//1000)π\n",
      " 3,4:   0.26,  (503//1000)π\n",
      " 2,3:   0.25,  (687//1000)π\n",
      " 1,2:   0.54,  (47//40)π\n",
      " 13,14:   0.32,  (1283//1000)π\n",
      " 12,13:   0.22,  (113//200)π\n",
      " 11,12:   0.28,  (72//125)π\n",
      " 10,11:   0.05,  (723//1000)π\n",
      " 9,10:   0.11,  (457//500)π\n",
      " 8,9:   0.03,  (653//500)π\n",
      " 7,8:   0.03,  (473//500)π\n",
      " 6,7:   0.03,  (6//5)π\n",
      " 5,6:   0.1,  (104//125)π\n",
      " 4,5:   0.02,  (176//125)π\n",
      " 3,4:   0.42,  (114//125)π\n",
      " 2,3:   0.64,  (153//250)π\n",
      " 1,2:   0.62,  (229//200)π\n",
      " 15,16:   0.6,  (869//1000)π\n",
      " 14,15:   0.1,  (979//1000)π\n",
      " 13,14:   0.03,  (211//250)π\n",
      " 12,13:   0.16,  (79//25)π\n",
      " 11,12:   0.07,  (113//100)π\n",
      " 10,11:   0.01,  (239//250)π\n",
      " 9,10:   0.18,  (-373//500)π\n",
      " 8,9:   0.04,  (557//200)π\n",
      " 7,8:   0.04,  (829//1000)π\n",
      " 6,7:   0.12,  (17//20)π\n",
      " 5,6:   0.13,  (323//500)π\n",
      " 4,5:   0.42,  (111//100)π\n",
      " 3,4:   0.2,  (-193//250)π\n",
      " 2,3:   0.63,  (63//50)π\n",
      " 1,2:   0.29,  (611//1000)π\n",
      " 17,18:   0.04,  (-3337//1000)π\n",
      " 16,17:   0.1,  (-721//500)π\n",
      " 15,16:   0.42,  (219//200)π\n",
      " 14,15:   0.05,  (677//500)π\n",
      " 13,14:   0.25,  (697//500)π\n",
      " 12,13:   0.04,  (49//40)π\n",
      " 11,12:   0.1,  (569//500)π\n",
      " 10,11:   0.05,  (19//20)π\n",
      " 9,10:   0.02,  (471//500)π\n",
      " 8,9:   0.02,  (287//200)π\n",
      " 7,8:   0.09,  (1247//1000)π\n",
      " 6,7:   0.02,  (193//250)π\n",
      " 5,6:   0.41,  (1091//1000)π\n",
      " 4,5:   0.01,  (487//500)π\n",
      " 3,4:   0.03,  (1//1)π\n",
      " 2,3:   0.52,  (257//250)π\n",
      " 1,2:   0.2,  (-517//200)π\n",
      " 19,20:   0.77,  (1243//1000)π\n",
      " 18,19:   0.03,  (27//40)π\n",
      " 17,18:   0.25,  (673//1000)π\n",
      " 16,17:   0.04,  (301//250)π\n",
      " 15,16:   0.01,  (158//125)π\n",
      " 14,15:   0.24,  (127//200)π\n",
      " 13,14:   0.0,  (873//1000)π\n",
      " 12,13:   0.12,  (129//125)π\n",
      " 11,12:   0.04,  (1489//1000)π\n",
      " 10,11:   0.01,  (823//1000)π\n",
      " 9,10:   0.04,  (1063//1000)π\n",
      " 8,9:   0.08,  (713//500)π\n",
      " 7,8:   0.04,  (1151//1000)π\n",
      " 6,7:   0.1,  (179//250)π\n",
      " 5,6:   0.02,  (-591//250)π\n",
      " 4,5:   0.08,  (663//1000)π\n",
      " 3,4:   0.04,  (507//1000)π\n",
      " 2,3:   0.08,  (147//200)π\n",
      " 1,2:   0.48,  (639//500)π\n",
      " 19,20:   0.05,  (-883//1000)π\n",
      " 18,19:   0.11,  (-309//200)π\n",
      " 17,18:   0.07,  (-1093//1000)π\n",
      " 16,17:   0.08,  (-1173//1000)π\n",
      " 15,16:   0.03,  (153//500)π\n",
      " 14,15:   0.0,  (359//1000)π\n",
      " 13,14:   0.21,  (-1689//1000)π\n",
      " 12,13:   0.18,  (-117//100)π\n",
      " 11,12:   0.03,  (-57//40)π\n",
      " 10,11:   0.01,  (149//250)π\n",
      " 9,10:   0.06,  (-953//500)π\n",
      " 8,9:   0.18,  (-39//25)π\n",
      " 7,8:   0.01,  (-2441//1000)π\n",
      " 6,7:   0.18,  (-277//200)π\n",
      " 5,6:   0.08,  (-1369//1000)π\n",
      " 4,5:   0.39,  (-151//500)π\n",
      " 3,4:   0.13,  (-577//1000)π\n",
      " 2,3:   0.35,  (74//125)π\n",
      " 19,20:   0.6,  (-131//125)π\n",
      " 18,19:   0.1,  (-287//250)π\n",
      " 17,18:   0.05,  (-559//500)π\n",
      " 16,17:   0.18,  (-741//500)π\n",
      " 15,16:   0.1,  (-1693//1000)π\n",
      " 14,15:   0.12,  (-239//200)π\n",
      " 13,14:   0.01,  (-227//250)π\n",
      " 12,13:   0.08,  (-139//250)π\n",
      " 11,12:   0.02,  (-923//500)π\n",
      " 10,11:   0.01,  (18//125)π\n",
      " 9,10:   0.22,  (-261//250)π\n",
      " 8,9:   0.07,  (99//500)π\n",
      " 7,8:   0.13,  (-293//200)π\n",
      " 6,7:   0.19,  (58//125)π\n",
      " 5,6:   0.05,  (-1437//1000)π\n",
      " 4,5:   0.59,  (-231//250)π\n",
      " 19,20:   0.44,  (-131//100)π\n",
      " 18,19:   0.04,  (-303//250)π\n",
      " 17,18:   0.05,  (-521//500)π\n",
      " 16,17:   0.15,  (-613//500)π\n",
      " 15,16:   0.35,  (-93//100)π\n",
      " 14,15:   0.03,  (-68//125)π\n",
      " 13,14:   0.01,  (-207//250)π\n",
      " 12,13:   0.04,  (-1537//1000)π\n",
      " 11,12:   0.04,  (-453//200)π\n",
      " 10,11:   0.1,  (-629//1000)π\n",
      " 9,10:   0.05,  (-613//250)π\n",
      " 8,9:   0.23,  (-53//100)π\n",
      " 7,8:   0.1,  (-1769//1000)π\n",
      " 6,7:   0.21,  (-1713//1000)π\n",
      " 19,20:   0.36,  (-677//1000)π\n",
      " 18,19:   0.32,  (-283//250)π\n",
      " 17,18:   0.23,  (-34//125)π\n",
      " 16,17:   0.15,  (-263//1000)π\n",
      " 15,16:   0.19,  (-93//500)π\n",
      " 14,15:   0.15,  (3//100)π\n",
      " 13,14:   0.18,  (17//50)π\n",
      " 12,13:   0.38,  (41//125)π\n",
      " 11,12:   0.07,  (37//100)π\n",
      " 10,11:   0.21,  (-23//25)π\n",
      " 9,10:   0.3,  (-641//500)π\n",
      " 8,9:   0.09,  (-1183//1000)π\n",
      " 19,20:   0.2,  (-357//500)π\n",
      " 18,19:   0.65,  (-259//250)π\n",
      " 17,18:   0.44,  (-1033//1000)π\n",
      " 16,17:   0.33,  (-877//500)π\n",
      " 15,16:   0.09,  (-427//200)π\n",
      " 14,15:   0.05,  (-2323//1000)π\n",
      " 13,14:   0.0,  (-2209//1000)π\n",
      " 12,13:   0.01,  (-1287//500)π\n",
      " 11,12:   0.31,  (-1141//1000)π\n",
      " 10,11:   0.69,  (661//1000)π\n",
      " 19,20:   0.52,  (-531//500)π\n",
      " 18,19:   0.02,  (-463//500)π\n",
      " 17,18:   0.1,  (-101//250)π\n",
      " 16,17:   0.03,  (-3//10)π\n",
      " 15,16:   0.01,  (-1//50)π\n",
      " 14,15:   0.28,  (-157//500)π\n",
      " 13,14:   0.2,  (-491//1000)π\n",
      " 12,13:   0.03,  (-97//500)π\n",
      " 19,20:   0.31,  (-1169//1000)π\n",
      " 18,19:   0.27,  (-427//250)π\n",
      " 17,18:   0.08,  (-1991//1000)π\n",
      " 16,17:   0.05,  (-238//125)π\n",
      " 15,16:   0.06,  (-3//2)π\n",
      " 14,15:   0.83,  (-1591//1000)π\n",
      " 19,20:   0.45,  (-543//1000)π\n",
      " 18,19:   0.15,  (-2//25)π\n",
      " 17,18:   0.27,  (-63//250)π\n",
      " 16,17:   0.23,  (209//1000)π\n",
      " 19,20:   0.11,  (-233//200)π\n",
      " 18,19:   0.92,  (-287//250)π\n"
     ]
    }
   ],
   "source": [
    "M = diagm(0 => ones(Complex, dim))\n",
    "println(\"(m,n)   refl.  ϕ\")\n",
    "println(\"----------------------------\")\n",
    "for (l, i) in enumerate(c)\n",
    "    println(\" $(i[1]),$(i[1] + 1):   $(round(cos(i[3])^2, digits=2)),  ($(rationalize(round(i[4]/π, digits=3))))π\")\n",
    "    M = Tmn(dim, i[1], i[3], i[4]) * M\n",
    "end"
   ]
  },
  {
   "cell_type": "code",
   "execution_count": 13,
   "metadata": {},
   "outputs": [
    {
     "data": {
      "text/plain": [
       "20×20 Matrix{Float64}:\n",
       " -1.31061e-8  0.0  0.0  0.0  0.0  0.0  …  0.0  0.0  0.0  0.0  0.0  0.0  0.0\n",
       "  0.0         0.0  0.0  0.0  0.0  0.0     0.0  0.0  0.0  0.0  0.0  0.0  0.0\n",
       "  0.0         0.0  0.0  0.0  0.0  0.0     0.0  0.0  0.0  0.0  0.0  0.0  0.0\n",
       "  0.0         0.0  0.0  0.0  0.0  0.0     0.0  0.0  0.0  0.0  0.0  0.0  0.0\n",
       "  0.0         0.0  0.0  0.0  0.0  0.0     0.0  0.0  0.0  0.0  0.0  0.0  0.0\n",
       "  0.0         0.0  0.0  0.0  0.0  0.0  …  0.0  0.0  0.0  0.0  0.0  0.0  0.0\n",
       "  0.0         0.0  0.0  0.0  0.0  0.0     0.0  0.0  0.0  0.0  0.0  0.0  0.0\n",
       "  0.0         0.0  0.0  0.0  0.0  0.0     0.0  0.0  0.0  0.0  0.0  0.0  0.0\n",
       "  0.0         0.0  0.0  0.0  0.0  0.0     0.0  0.0  0.0  0.0  0.0  0.0  0.0\n",
       "  0.0         0.0  0.0  0.0  0.0  0.0     0.0  0.0  0.0  0.0  0.0  0.0  0.0\n",
       "  0.0         0.0  0.0  0.0  0.0  0.0  …  0.0  0.0  0.0  0.0  0.0  0.0  0.0\n",
       "  0.0         0.0  0.0  0.0  0.0  0.0     0.0  0.0  0.0  0.0  0.0  0.0  0.0\n",
       "  0.0         0.0  0.0  0.0  0.0  0.0     0.0  0.0  0.0  0.0  0.0  0.0  0.0\n",
       "  0.0         0.0  0.0  0.0  0.0  0.0     0.0  0.0  0.0  0.0  0.0  0.0  0.0\n",
       "  0.0         0.0  0.0  0.0  0.0  0.0     0.0  0.0  0.0  0.0  0.0  0.0  0.0\n",
       "  0.0         0.0  0.0  0.0  0.0  0.0  …  0.0  0.0  0.0  0.0  0.0  0.0  0.0\n",
       "  0.0         0.0  0.0  0.0  0.0  0.0     0.0  0.0  0.0  0.0  0.0  0.0  0.0\n",
       "  0.0         0.0  0.0  0.0  0.0  0.0     0.0  0.0  0.0  0.0  0.0  0.0  0.0\n",
       "  0.0         0.0  0.0  0.0  0.0  0.0     0.0  0.0  0.0  0.0  0.0  0.0  0.0\n",
       "  0.0         0.0  0.0  0.0  0.0  0.0     0.0  0.0  0.0  0.0  0.0  0.0  0.0"
      ]
     },
     "execution_count": 13,
     "metadata": {},
     "output_type": "execute_result"
    }
   ],
   "source": [
    "sparsify.(D * M - R)"
   ]
  },
  {
   "cell_type": "code",
   "execution_count": 14,
   "metadata": {},
   "outputs": [
    {
     "data": {
      "text/plain": [
       "8.124424251021922e-8"
      ]
     },
     "execution_count": 14,
     "metadata": {},
     "output_type": "execute_result"
    }
   ],
   "source": [
    "norm(D * M - R)"
   ]
  },
  {
   "cell_type": "markdown",
   "metadata": {
    "tags": []
   },
   "source": [
    "# symmetric 4-port beam splitter"
   ]
  },
  {
   "cell_type": "code",
   "execution_count": 21,
   "metadata": {},
   "outputs": [
    {
     "data": {
      "image/png": "[encoded data removed]",
      "text/plain": [
       "PyPlot.Figure(PyObject <Figure size 500x500 with 1 Axes>)"
      ]
     },
     "metadata": {},
     "output_type": "display_data"
    }
   ],
   "source": [
    "reference_plot(4, colors=false, save_plot_as=nothing, io_labels=true, figsize=5, grid=true)"
   ]
  },
  {
   "cell_type": "code",
   "execution_count": 15,
   "metadata": {},
   "outputs": [
    {
     "data": {
      "text/plain": [
       "4×4 Matrix{Float64}:\n",
       " 0.5   0.5   0.5   0.5\n",
       " 0.5   0.5  -0.5  -0.5\n",
       " 0.5  -0.5   0.5  -0.5\n",
       " 0.5  -0.5  -0.5   0.5"
      ]
     },
     "execution_count": 15,
     "metadata": {},
     "output_type": "execute_result"
    }
   ],
   "source": [
    "# Symmetric 4-port beam splitters are constrained to the following form\n",
    "\n",
    "ϕv = 0\n",
    "U = ComplexF64[\n",
    "    1         1         1         1\n",
    "    1   exp(1im * ϕv)  -1  -exp(1im * ϕv)\n",
    "    1        -1         1        -1\n",
    "    1  -exp(1im * ϕv)  -1   exp(1im * ϕv)\n",
    "]/2; sparsify.(U)"
   ]
  },
  {
   "cell_type": "code",
   "execution_count": 16,
   "metadata": {},
   "outputs": [
    {
     "data": {
      "text/plain": [
       "4×4 Matrix{Float64}:\n",
       " 1.0  0.0   0.0  0.0\n",
       " 0.0  1.0   0.0  0.0\n",
       " 0.0  0.0  -1.0  0.0\n",
       " 0.0  0.0   0.0  1.0"
      ]
     },
     "execution_count": 16,
     "metadata": {},
     "output_type": "execute_result"
    }
   ],
   "source": [
    "dim = size(U)[1]\n",
    "D, c = clements_decomposition(U, p0=[0.1, 0.15]); sparsify.(D, 1e-6)"
   ]
  },
  {
   "cell_type": "code",
   "execution_count": 17,
   "metadata": {},
   "outputs": [
    {
     "name": "stdout",
     "output_type": "stream",
     "text": [
      "(m,n)   refl.  ϕ\n",
      "----------------------------\n",
      " 1,2:   0.5,  (0//1)π\n",
      " 3,4:   0.5,  (0//1)π\n",
      " 2,3:   0.0,  (6//125)π\n",
      " 1,2:   0.5,  (0//1)π\n",
      " 3,4:   0.5,  (-6//125)π\n",
      " 2,3:   1.0,  (0//1)π\n"
     ]
    }
   ],
   "source": [
    "M = diagm(0 => ones(Complex, dim))\n",
    "println(\"(m,n)   refl.  ϕ\")\n",
    "println(\"----------------------------\")\n",
    "for (l, i) in enumerate(c)\n",
    "    println(\" $(i[1]),$(i[1] + 1):   $(round(cos(i[3])^2, digits=2)),  ($(rationalize(round(i[4]/π, digits=3))))π\")\n",
    "    M = Tmn(dim, i[1], i[3], i[4]) * M\n",
    "end"
   ]
  },
  {
   "cell_type": "code",
   "execution_count": 18,
   "metadata": {},
   "outputs": [
    {
     "data": {
      "text/plain": [
       "4×4 Matrix{Float64}:\n",
       " 0.5   0.5   0.5   0.5\n",
       " 0.5   0.5  -0.5  -0.5\n",
       " 0.5  -0.5   0.5  -0.5\n",
       " 0.5  -0.5  -0.5   0.5"
      ]
     },
     "execution_count": 18,
     "metadata": {},
     "output_type": "execute_result"
    }
   ],
   "source": [
    "sparsify.(D * M)"
   ]
  },
  {
   "cell_type": "code",
   "execution_count": 19,
   "metadata": {},
   "outputs": [
    {
     "data": {
      "text/plain": [
       "5.388534756608808e-10"
      ]
     },
     "execution_count": 19,
     "metadata": {},
     "output_type": "execute_result"
    }
   ],
   "source": [
    "norm(D * M - U)"
   ]
  },
  {
   "cell_type": "code",
   "execution_count": 23,
   "metadata": {},
   "outputs": [
    {
     "data": {
      "text/plain": [
       "4×4 Matrix{Int64}:\n",
       " 1   1   1   1\n",
       " 1   1  -1  -1\n",
       " 1  -1   1  -1\n",
       " 1  -1  -1   1"
      ]
     },
     "execution_count": 23,
     "metadata": {},
     "output_type": "execute_result"
    }
   ],
   "source": [
    "# Let's try and find the asymmetric bs version by eye based on these results\n",
    "D = diagm(0 => [1, 1, 1, 1])\n",
    "\n",
    "Ubuilt = sparsify.(\n",
    "    D *\n",
    "    Tmn(4, 2, 0, 0) *     # identity\n",
    "    Tmn(4, 3, π/4, 0, convention=\"asymmetric\") * \n",
    "    Tmn(4, 1, π/4, 0, convention=\"asymmetric\") * \n",
    "    swap(4, 2, 3) * \n",
    "    Tmn(4, 3, π/4, 0, convention=\"asymmetric\") * \n",
    "    Tmn(4, 1, π/4, 0, convention=\"asymmetric\") \n",
    "    \n",
    ")\n",
    "convert(Array{Int}, 2* round.(Ubuilt, digits=2))\n",
    "# Ubuilt"
   ]
  },
  {
   "cell_type": "markdown",
   "metadata": {
    "jp-MarkdownHeadingCollapsed": true,
    "tags": []
   },
   "source": [
    "## Construct unitary as illustrated in poster"
   ]
  },
  {
   "cell_type": "code",
   "execution_count": null,
   "metadata": {},
   "outputs": [
    {
     "data": {
      "text/plain": [
       "4×4 Matrix{Any}:\n",
       " -0.665569+0.0im  -0.672942+0.0im  -0.161374+0.0im    0.279508+0.0im\n",
       " -0.572956+0.0im   0.655217+0.0im  -0.487587+0.0im  -0.0683458+0.0im\n",
       "   0.38809+0.0im  -0.302983+0.0im  -0.823803+0.0im   -0.280956+0.0im\n",
       "  0.279508+0.0im   0.161374+0.0im  -0.239929+0.0im    0.915569+0.0im"
      ]
     },
     "execution_count": 962,
     "metadata": {},
     "output_type": "execute_result"
    }
   ],
   "source": [
    "U_poster = \n",
    "Tmn(4, 2, 3, acos(√2/3), 0) *\n",
    "Tmn(4, 1, 3, acos(√1/4), 0) *\n",
    "Tmn(4, 2, 4, acos(√1/4), 0) *\n",
    "Tmn(4, 2, acos(√1/3), 0) *\n",
    "Tmn(4, 3, acos(√1/2), 0) *\n",
    "Tmn(4, 1, acos(√1/2), 0)"
   ]
  },
  {
   "cell_type": "code",
   "execution_count": null,
   "metadata": {},
   "outputs": [
    {
     "data": {
      "text/plain": [
       "4×4 Matrix{Number}:\n",
       " 1.16557            1.17294    0.661374            0.220492\n",
       " 1.07296   -0.655217+0.5im    -0.0124132  0.0683458-0.5im\n",
       " 0.11191           -0.197017   1.3238             -0.219044\n",
       " 0.220492  -0.161374-0.5im    -0.260071   -0.915569+0.5im"
      ]
     },
     "execution_count": 824,
     "metadata": {},
     "output_type": "execute_result"
    }
   ],
   "source": [
    "sparsify.(U - U_poster)"
   ]
  },
  {
   "cell_type": "code",
   "execution_count": 670,
   "metadata": {},
   "outputs": [
    {
     "data": {
      "text/plain": [
       "4×4 Matrix{Any}:\n",
       "  0.5-9.18485e-17im   0.5-9.18485e-17im  …  -0.5+0.0im\n",
       "  0.5-9.18485e-17im   0.5+3.06162e-17im      0.5+6.12323e-17im\n",
       "  0.5-6.12323e-17im  -0.5-3.7494e-33im       0.5-3.06162e-17im\n",
       " -0.5+6.12323e-17im   0.5+0.0im              0.5+3.06162e-17im"
      ]
     },
     "execution_count": 670,
     "metadata": {},
     "output_type": "execute_result"
    }
   ],
   "source": [
    "U_alt = \n",
    "Tmn(4, 2, 3, π, -π) *\n",
    "Tmn(4, 3, 4, π/4, -π/2) *\n",
    "Tmn(4, 1, 2, π/4, π) *\n",
    "Tmn(4, 2, 3, π/2, π/2) *\n",
    "Tmn(4, 3, 4, π/4, π) *\n",
    "Tmn(4, 1, 2, π/4, π) "
   ]
  },
  {
   "cell_type": "code",
   "execution_count": 671,
   "metadata": {},
   "outputs": [
    {
     "data": {
      "text/plain": [
       "4×4 Matrix{Float64}:\n",
       "  0.5   0.5  -0.5  -0.5\n",
       " -0.5  -0.5  -0.5  -0.5\n",
       "  0.5  -0.5  -0.5   0.5\n",
       " -0.5   0.5  -0.5   0.5"
      ]
     },
     "execution_count": 671,
     "metadata": {},
     "output_type": "execute_result"
    }
   ],
   "source": [
    "sparsify.(D * U_alt)"
   ]
  },
  {
   "cell_type": "code",
   "execution_count": 672,
   "metadata": {},
   "outputs": [
    {
     "data": {
      "text/plain": [
       "4×4 Matrix{Float64}:\n",
       " 1.0  0.0  0.0  0.0\n",
       " 0.0  1.0  0.0  0.0\n",
       " 0.0  0.0  1.0  0.0\n",
       " 0.0  0.0  0.0  1.0"
      ]
     },
     "execution_count": 672,
     "metadata": {},
     "output_type": "execute_result"
    }
   ],
   "source": [
    "sparsify.(U_alt * U_alt')"
   ]
  },
  {
   "cell_type": "code",
   "execution_count": null,
   "metadata": {},
   "outputs": [],
   "source": []
  }
 ],
 "metadata": {
  "kernelspec": {
   "display_name": "Julia 1.7.3",
   "language": "julia",
   "name": "julia-1.7"
  },
  "language_info": {
   "file_extension": ".jl",
   "mimetype": "application/julia",
   "name": "julia",
   "version": "1.7.3"
  }
 },
 "nbformat": 4,
 "nbformat_minor": 4
}
