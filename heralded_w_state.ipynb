{
 "cells": [
  {
   "cell_type": "code",
   "execution_count": 11,
   "id": "2e66abdd-d2cb-492f-8352-9501d187dc30",
   "metadata": {},
   "outputs": [],
   "source": [
    "using NLsolve\n",
    "using LinearAlgebra\n",
    "using QuantumOptics.QuantumOpticsBase\n",
    "import PyPlot\n",
    "const plt = PyPlot;"
   ]
  },
  {
   "cell_type": "markdown",
   "id": "edcd7bd6-9d86-430f-b411-74a38131c9a2",
   "metadata": {
    "tags": []
   },
   "source": [
    "# Setup"
   ]
  },
  {
   "cell_type": "code",
   "execution_count": 536,
   "id": "76057622-bb3f-4796-b7c6-ad993eb19178",
   "metadata": {},
   "outputs": [
    {
     "data": {
      "text/plain": [
       "swap"
      ]
     },
     "execution_count": 536,
     "metadata": {},
     "output_type": "execute_result"
    }
   ],
   "source": [
    "# https://groups.google.com/g/julia-users/c/BswpTOoHdfA \n",
    "function lpermutations(a)\n",
    "    b = Vector()\n",
    "    sort!(a)\n",
    "    n = length(a)\n",
    "    while(true)\n",
    "        push!(b, copy(a))    \n",
    "        j = n-1\n",
    "        while(a[j] >= a[j+1])\n",
    "            j -= 1\n",
    "            j == 0 && return(b)\n",
    "        end\n",
    "        l=n\n",
    "        while(a[j] >= a[l])\n",
    "            l -= 1\n",
    "        end\n",
    "        tmp = a[l]\n",
    "        a[l] = a[j]\n",
    "        a[j] = tmp\n",
    "        k = j+1\n",
    "        l = n\n",
    "        while(k < l)\n",
    "            tmp = a[k]\n",
    "            a[k] = a[l]\n",
    "            a[l] = tmp\n",
    "            k += 1\n",
    "            l -= 1\n",
    "        end\n",
    "    end\n",
    "end\n",
    "\n",
    "# https://stackoverflow.com/questions/37101324/how-to-zero-out-small-values-in-an-array#answer-37101609\n",
    "function sparsify(x, eps) \n",
    "    if abs(x) < eps\n",
    "        return 0.0\n",
    "    elseif abs(real(x)) < eps\n",
    "        return imag(x) * 1im\n",
    "    elseif abs(imag(x)) < eps\n",
    "        return real(x)\n",
    "    end\n",
    "    return x\n",
    "end\n",
    "\n",
    "function sparsify(x) \n",
    "    eps = 1e-8\n",
    "    if abs(x) < eps\n",
    "        return 0.0\n",
    "    elseif abs(real(x)) < eps\n",
    "        return imag(x) * 1im\n",
    "    elseif abs(imag(x)) < eps\n",
    "        return real(x)\n",
    "    end\n",
    "    return x\n",
    "end\n",
    "\n",
    "##################################################################################################################################\n",
    "# Convenience functions for computing Tₘₙ(θ,ϕ) and Tₘₙ⁻¹(θ,ϕ) as defined in http://dx.doi.org/10.1364/OPTICA.3.001460 for n=m+1\n",
    "##################################################################################################################################\n",
    "function Tdiagonal(N, m, θ, ϕ; inv=false, diag=1)\n",
    "    values = diag * ones(ComplexF64, N)\n",
    "    values[m] = exp(1im * (-1)^Int(inv) * ϕ) * cos(θ)\n",
    "    values[m+1] = cos(θ)\n",
    "    return values\n",
    "end\n",
    "\n",
    "function Tlowerdiagonal(N, m, θ, ϕ; inv=false)\n",
    "    values = zeros(ComplexF64, N-1)\n",
    "    if inv\n",
    "        values[m] = -sin(θ)\n",
    "    else\n",
    "        values[m] = exp(1im * ϕ) * sin(θ)\n",
    "    end\n",
    "    return values\n",
    "end\n",
    "\n",
    "function Tupperdiagonal(N, m, θ, ϕ; inv=false)\n",
    "    values = zeros(ComplexF64, N-1)\n",
    "    if inv\n",
    "        values[m] = exp(-1im * ϕ) * sin(θ)\n",
    "    else   \n",
    "        values[m] = -sin(θ)\n",
    "    end\n",
    "    return values\n",
    "end\n",
    "\n",
    "\"\"\"\n",
    "    Tmn(N::Int, m::Int, θ::Real, ϕ::Real; inv::Bool=false)\n",
    "\n",
    "Compute Tₘₙ(θ,ϕ) of dimension N×N (or Tₘₙ⁻¹(θ,ϕ) when `inv=true`) as described in [this paper](http://dx.doi.org/10.1364/OPTICA.3.001460) when `n=m+1`.\n",
    "\"\"\"\n",
    "function Tmn(N::Int, m::Int, θ::Real, ϕ::Real; inv::Bool=false, convention=\"clements\")\n",
    "    if convention == \"clements\"\n",
    "        diagm(0 => Tdiagonal(N, m, θ, ϕ, inv=inv), \n",
    "             -1 => Tlowerdiagonal(N, m, θ, ϕ, inv=inv), \n",
    "              1 => Tupperdiagonal(N, m, θ, ϕ, inv=inv)\n",
    "        )\n",
    "    elseif convention == \"asymmetric\"\n",
    "         ϕ += π\n",
    "        diagm(0 => Tdiagonal(N, m, θ, ϕ, inv=inv, diag=-1), \n",
    "             -1 => Tlowerdiagonal(N, m, θ, ϕ, inv=inv), \n",
    "              1 => Tupperdiagonal(N, m, θ, ϕ, inv=inv)\n",
    "        )\n",
    "    end\n",
    "end\n",
    "\n",
    "function Tmn(N::Int, m::Int, n::Int, θ::Real, ϕ::Real; inv::Bool=false, convention=\"clements\")\n",
    "    a = 1\n",
    "    if convention == \"clements\"\n",
    "        nothing\n",
    "    elseif convention == \"asymmetric\"\n",
    "        a = -1\n",
    "        ϕ += π\n",
    "    end\n",
    "    T = diagm(0 => a * Complex[1. for _ in 1:N])\n",
    "    T[m, m] = exp(1im * (-1)^Int(inv) * ϕ) * cos(θ)\n",
    "    T[n, n] = cos(θ)\n",
    "    if inv\n",
    "        T[m, n] = exp(-1im * ϕ) * sin(θ)\n",
    "        T[n, m] = -sin(θ)\n",
    "    else\n",
    "        T[m, n] = -sin(θ)\n",
    "        T[n, m] = exp(1im * ϕ) * sin(θ)\n",
    "    end\n",
    "    return T\n",
    "end\n",
    "\n",
    "\"\"\"\n",
    "    swap(N, m, n)\n",
    "Returns NxN unitary description of operation that swaps input m with n on outputs.\n",
    "\"\"\"\n",
    "function swap(N, m, n)\n",
    "    U = diagm(0 => Complex[i == m || i == n ? 0 : 1 for i in 1:N])\n",
    "    U[m, n] = 1.\n",
    "    U[n, m] = 1.\n",
    "    return U\n",
    "end"
   ]
  },
  {
   "cell_type": "code",
   "execution_count": 150,
   "id": "3ee1704f-6922-4c50-925d-dd09622847a9",
   "metadata": {},
   "outputs": [
    {
     "data": {
      "text/plain": [
       "output_state (generic function with 2 methods)"
      ]
     },
     "execution_count": 150,
     "metadata": {},
     "output_type": "execute_result"
    }
   ],
   "source": [
    "b = FockBasis(4);\n",
    "I = identityoperator(b)\n",
    "a = [mapreduce(⊗, [i == j ? create(b) : I for i in 1:8]) for j in 1:8]\n",
    "ground_state = reduce(⊗, [fockstate(b, 0) for _ in 1:8])\n",
    "\n",
    "function output_state(input_state)\n",
    "    # eg. input_state = [(1, [0, 0, 0, 0]), (-1, [1, 1, 1, 1])]\n",
    "    output_state = ground_state * 0\n",
    "    zero_array = a[1] * 0\n",
    "    id = identityoperator(a[1].basis_l)\n",
    "    for component in input_state\n",
    "        prefactor, state = component\n",
    "        total_operator = copy(id)\n",
    "        for (i, val) in enumerate(state)\n",
    "            operator = copy(zero_array)\n",
    "            for (j, el) in enumerate(view(U, :, i))\n",
    "                operator += el * a[2j - 1 + val]\n",
    "            end\n",
    "            total_operator *= operator\n",
    "        end\n",
    "        output_state += prefactor * total_operator * ground_state\n",
    "    end\n",
    "    return output_state\n",
    "end          "
   ]
  },
  {
   "cell_type": "code",
   "execution_count": 193,
   "id": "dc21401a-cb71-499b-ba19-7593217c4747",
   "metadata": {},
   "outputs": [
    {
     "data": {
      "text/plain": [
       "K (generic function with 1 method)"
      ]
     },
     "execution_count": 193,
     "metadata": {},
     "output_type": "execute_result"
    }
   ],
   "source": [
    "function W(x...) \n",
    "    lp = lpermutations([0, 0, 0, 1])\n",
    "    return [(x[i] / 2, lp[i]) for i in 1:length(x)]\n",
    "end\n",
    "\n",
    "function M(x...) \n",
    "    lp = lpermutations([1, 1, 1, 0])\n",
    "    return [(x[i] / 2, lp[i]) for i in 1:length(x)]\n",
    "end\n",
    "\n",
    "W1 = W(1,1,1,1)\n",
    "W2 = W(1,1,-1,-1)\n",
    "W3 = W(1,-1,-1,1)\n",
    "W4 = W(1,-1,1,-1)\n",
    "M1 = M(1,1,1,1)\n",
    "M2 = M(1,1,-1,-1)\n",
    "M3 = M(1,-1,-1,1)\n",
    "M4 = M(1,-1,1,-1)\n",
    "GHZ(x) = [(1/√2, [0, 0, 0, 0]), ((-1)^((x%2)+1)/√2, [1, 1, 1, 1])]\n",
    "K(x) = [(1, lpermutations([0, 0, 1, 1])[x])]"
   ]
  },
  {
   "cell_type": "code",
   "execution_count": 590,
   "id": "fe691425-e810-451f-bfd9-b350a072c28c",
   "metadata": {},
   "outputs": [
    {
     "data": {
      "text/plain": [
       "commonelements (generic function with 1 method)"
      ]
     },
     "execution_count": 590,
     "metadata": {},
     "output_type": "execute_result"
    }
   ],
   "source": [
    "function statetostring(state)\n",
    "    s = \"\"\n",
    "    for (i, el) in enumerate(state)\n",
    "        el == 0 && continue\n",
    "        if i%2 == 1\n",
    "            s *= \"H$(i÷2 + 1) \"\n",
    "        else\n",
    "            s *= \"V$(i÷2) \"\n",
    "        end\n",
    "    end\n",
    "    return s\n",
    "end\n",
    "\n",
    "function clicks(state)\n",
    "    results = []\n",
    "    permutations = lpermutations([0, 0, 0, 0, 1, 1, 1, 1])\n",
    "    for permutation in permutations\n",
    "        mstate = mapreduce(x -> x == 0 ? fockstate(b, 0) : fockstate(b, 1), ⊗, permutation)\n",
    "        prob = round(abs(mstate' * state)^2, digits=4)\n",
    "        prob > 1e-6 && push!(results, [statetostring(permutation), prob, permutation])\n",
    "    end\n",
    "    return results\n",
    "end\n",
    "\n",
    "function commonelements(clicks1, clicks2)\n",
    "    for c1 in clicks1, c2 in clicks2\n",
    "        c1 == c2 && return true\n",
    "    end\n",
    "    return false\n",
    "end"
   ]
  },
  {
   "cell_type": "markdown",
   "id": "39194795-dc6b-4069-88b3-c7b5543937c8",
   "metadata": {},
   "source": [
    "# Calculations"
   ]
  },
  {
   "cell_type": "code",
   "execution_count": 541,
   "id": "b9fecada-7bcd-47e3-9e4b-2e79597e04eb",
   "metadata": {},
   "outputs": [
    {
     "data": {
      "text/plain": [
       "4×4 Matrix{Float64}:\n",
       " 0.5   0.5   0.5   0.5\n",
       " 0.5   0.5  -0.5  -0.5\n",
       " 0.5  -0.5   0.5  -0.5\n",
       " 0.5  -0.5  -0.5   0.5"
      ]
     },
     "execution_count": 541,
     "metadata": {},
     "output_type": "execute_result"
    }
   ],
   "source": [
    "# Symmetric 4-port beam splitters are constrained to the following form\n",
    "ϕv = 0\n",
    "U = ComplexF64[\n",
    "    1         1         1         1\n",
    "    1   exp(1im * ϕv)  -1  -exp(1im * ϕv)\n",
    "    1        -1         1        -1\n",
    "    1  -exp(1im * ϕv)  -1   exp(1im * ϕv)\n",
    "] / 2\n",
    "# Uk = kron(U, [1 0; 0 1])\n",
    "# sparsify.(convert(Array{Int}, 2U))\n",
    "sparsify.(U)"
   ]
  },
  {
   "cell_type": "code",
   "execution_count": 591,
   "id": "1ae0872f-532d-4970-9856-3a6722e73a12",
   "metadata": {},
   "outputs": [],
   "source": [
    "states = [\n",
    "    W1, W2, W3, W4, \n",
    "    M1, M2, M3, M4, \n",
    "    GHZ(1), GHZ(2), \n",
    "    K(1), K(2), K(3), K(4), K(5), K(6)\n",
    "];"
   ]
  },
  {
   "cell_type": "code",
   "execution_count": 592,
   "id": "2724a8ae-a98f-461d-afae-011e21314faf",
   "metadata": {},
   "outputs": [],
   "source": [
    "r = []\n",
    "for state in states\n",
    "     push!(r, clicks(output_state(state)))\n",
    "end"
   ]
  },
  {
   "cell_type": "code",
   "execution_count": 601,
   "id": "3ec38c31-0b45-4164-bfe9-968b543afaa0",
   "metadata": {},
   "outputs": [
    {
     "name": "stdout",
     "output_type": "stream",
     "text": [
      "Any[\" H2 H3 H4 V1\", 0.0625, [0, 1, 1, 0, 1, 0, 1, 0]]\n",
      "Any[\" H1 H3 H4 V2\", 0.0625, [1, 0, 0, 1, 1, 0, 1, 0]]\n",
      "Any[\" H1 H2 H4 V3\", 0.0625, [1, 0, 1, 0, 0, 1, 1, 0]]\n",
      "Any[\" H1 H2 H3 V4\", 0.0625, [1, 0, 1, 0, 1, 0, 0, 1]]\n"
     ]
    }
   ],
   "source": [
    "for (i, x) in enumerate(r[1])\n",
    "    x[1] = join(sort(split(x[1], \" \")), \" \")\n",
    "    println(x)\n",
    "end"
   ]
  },
  {
   "cell_type": "code",
   "execution_count": 602,
   "id": "efc52aa1-f580-425e-be4b-3008906d3262",
   "metadata": {},
   "outputs": [
    {
     "name": "stdout",
     "output_type": "stream",
     "text": [
      "Any[\" H2 H3 H4 V2\", 0.0625, [0, 0, 1, 1, 1, 0, 1, 0]]\n",
      "Any[\" H1 H2 H4 V4\", 0.0625, [1, 0, 1, 0, 0, 0, 1, 1]]\n",
      "Any[\" H1 H2 H3 V3\", 0.0625, [1, 0, 1, 0, 1, 1, 0, 0]]\n",
      "Any[\" H1 H3 H4 V1\", 0.0625, [1, 1, 0, 0, 1, 0, 1, 0]]\n"
     ]
    }
   ],
   "source": [
    "for (i, x) in enumerate(r[2])\n",
    "    x[1] = join(sort(split(x[1], \" \")), \" \")\n",
    "    println(x)\n",
    "end"
   ]
  },
  {
   "cell_type": "code",
   "execution_count": 606,
   "id": "026ae3a7-96cf-452f-b5ce-82e78e04f31a",
   "metadata": {},
   "outputs": [
    {
     "data": {
      "text/plain": [
       "0.25"
      ]
     },
     "execution_count": 606,
     "metadata": {},
     "output_type": "execute_result"
    }
   ],
   "source": [
    "4/16"
   ]
  },
  {
   "cell_type": "code",
   "execution_count": 603,
   "id": "9ecd99a0-09a4-4bac-b665-373e292b5171",
   "metadata": {},
   "outputs": [
    {
     "name": "stdout",
     "output_type": "stream",
     "text": [
      "Any[\" H2 H3 H4 V4\", 0.0625, [0, 0, 1, 0, 1, 0, 1, 1]]\n",
      "Any[\" H1 H3 H4 V3\", 0.0625, [1, 0, 0, 0, 1, 1, 1, 0]]\n",
      "Any[\" H1 H2 H4 V2\", 0.0625, [1, 0, 1, 1, 0, 0, 1, 0]]\n",
      "Any[\" H1 H2 H3 V1\", 0.0625, [1, 1, 1, 0, 1, 0, 0, 0]]\n"
     ]
    }
   ],
   "source": [
    "for (i, x) in enumerate(r[3])\n",
    "    x[1] = join(sort(split(x[1], \" \")), \" \")\n",
    "    println(x)\n",
    "end"
   ]
  },
  {
   "cell_type": "code",
   "execution_count": 604,
   "id": "e595990f-3ae6-46b7-955d-7d62334ddb3e",
   "metadata": {},
   "outputs": [
    {
     "name": "stdout",
     "output_type": "stream",
     "text": [
      "Any[\" H2 H3 H4 V3\", 0.0625, [0, 0, 1, 0, 1, 1, 1, 0]]\n",
      "Any[\" H1 H3 H4 V4\", 0.0625, [1, 0, 0, 0, 1, 0, 1, 1]]\n",
      "Any[\" H1 H2 H3 V2\", 0.0625, [1, 0, 1, 1, 1, 0, 0, 0]]\n",
      "Any[\" H1 H2 H4 V1\", 0.0625, [1, 1, 1, 0, 0, 0, 1, 0]]\n"
     ]
    }
   ],
   "source": [
    "for (i, x) in enumerate(r[4])\n",
    "    x[1] = join(sort(split(x[1], \" \")), \" \")\n",
    "    println(x)\n",
    "end"
   ]
  },
  {
   "cell_type": "code",
   "execution_count": 544,
   "id": "b1b90a01-cbab-494f-b2cf-095fae2ec649",
   "metadata": {},
   "outputs": [
    {
     "name": "stdout",
     "output_type": "stream",
     "text": [
      "i:9, j:10\n",
      "i:11, j:16\n",
      "i:12, j:15\n",
      "i:13, j:14\n"
     ]
    }
   ],
   "source": [
    "for i in 1:length(states), j in i+1:length(states)\n",
    "    if commonelements(map(x->x[3], r[i]), map(x->x[3], r[j])) \n",
    "        println(\"i:$i, j:$j\")\n",
    "    end\n",
    "end"
   ]
  },
  {
   "cell_type": "code",
   "execution_count": 545,
   "id": "374feba2-2e6b-4eb7-9538-bb8d0bc62a0f",
   "metadata": {},
   "outputs": [
    {
     "data": {
      "text/plain": [
       "4×4 Matrix{Int64}:\n",
       " 1   1   1   1\n",
       " 1   1  -1  -1\n",
       " 1  -1   1  -1\n",
       " 1  -1  -1   1"
      ]
     },
     "execution_count": 545,
     "metadata": {},
     "output_type": "execute_result"
    }
   ],
   "source": [
    "D = diagm(0 => [1, 1, 1, 1])\n",
    "\n",
    "Ubuilt = sparsify.(\n",
    "    D *\n",
    "    Tmn(4, 2, 0, 0) *     # identity\n",
    "    Tmn(4, 3, π/4, 0, convention=\"asymmetric\") * \n",
    "    Tmn(4, 1, π/4, 0, convention=\"asymmetric\") * \n",
    "    swap(4, 2, 3) * \n",
    "    Tmn(4, 3, π/4, 0, convention=\"asymmetric\") * \n",
    "    Tmn(4, 1, π/4, 0, convention=\"asymmetric\") \n",
    "    \n",
    ")\n",
    "convert(Array{Int}, 2* round.(Ubuilt, digits=2))\n",
    "# Ubuilt"
   ]
  },
  {
   "cell_type": "code",
   "execution_count": 548,
   "id": "e3915e78-aa40-4b45-a3d3-9ad6230d8d82",
   "metadata": {},
   "outputs": [
    {
     "data": {
      "text/plain": [
       "4×1 Matrix{ComplexF64}:\n",
       " 0.5 + 0.0im\n",
       " 0.5 + 0.0im\n",
       " 0.5 + 0.0im\n",
       " 0.5 + 0.0im"
      ]
     },
     "execution_count": 548,
     "metadata": {},
     "output_type": "execute_result"
    }
   ],
   "source": [
    "U * [1 0 0 0]'"
   ]
  },
  {
   "cell_type": "code",
   "execution_count": 549,
   "id": "206fcd0d-ad5c-4eab-87cd-48cc5c958922",
   "metadata": {},
   "outputs": [
    {
     "data": {
      "text/plain": [
       "4×1 Matrix{ComplexF64}:\n",
       "  0.5 + 0.0im\n",
       "  0.5 + 0.0im\n",
       " -0.5 + 0.0im\n",
       " -0.5 + 0.0im"
      ]
     },
     "execution_count": 549,
     "metadata": {},
     "output_type": "execute_result"
    }
   ],
   "source": [
    "U * [0 1 0 0]'"
   ]
  },
  {
   "cell_type": "code",
   "execution_count": null,
   "id": "cda4e794-f52b-4511-8da1-525a10d402f9",
   "metadata": {},
   "outputs": [],
   "source": []
  }
 ],
 "metadata": {
  "kernelspec": {
   "display_name": "Julia 1.7.3",
   "language": "julia",
   "name": "julia-1.7"
  },
  "language_info": {
   "file_extension": ".jl",
   "mimetype": "application/julia",
   "name": "julia",
   "version": "1.7.3"
  }
 },
 "nbformat": 4,
 "nbformat_minor": 5
}
