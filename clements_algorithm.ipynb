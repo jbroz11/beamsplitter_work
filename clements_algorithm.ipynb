{
 "cells": [
  {
   "cell_type": "markdown",
   "metadata": {
    "tags": []
   },
   "source": [
    "# Imports"
   ]
  },
  {
   "cell_type": "code",
   "execution_count": 2,
   "metadata": {
    "Collapsed": "false"
   },
   "outputs": [],
   "source": [
    "using NLsolve\n",
    "using LinearAlgebra\n",
    "using Random\n",
    "using RandomMatrices"
   ]
  },
  {
   "cell_type": "code",
   "execution_count": 3,
   "metadata": {},
   "outputs": [],
   "source": [
    "import PyPlot\n",
    "const plt = PyPlot;"
   ]
  },
  {
   "cell_type": "markdown",
   "metadata": {
    "tags": []
   },
   "source": [
    "# setup"
   ]
  },
  {
   "cell_type": "code",
   "execution_count": 4,
   "metadata": {},
   "outputs": [
    {
     "data": {
      "text/plain": [
       "generate_basis_state"
      ]
     },
     "execution_count": 4,
     "metadata": {},
     "output_type": "execute_result"
    }
   ],
   "source": [
    "# found here: https://groups.google.com/g/julia-users/c/BswpTOoHdfA\n",
    "# lexicographic premutations generation, By Donald Knuth  \n",
    "function lpermutations(a)\n",
    "    b = Vector()\n",
    "    sort!(a)\n",
    "    n = length(a)\n",
    "    while(true)\n",
    "        push!(b, copy(a))    \n",
    "        j = n-1\n",
    "        while(a[j] >= a[j+1])\n",
    "            j -= 1\n",
    "            j == 0 && return(b)\n",
    "        end\n",
    "        l=n\n",
    "        while(a[j] >= a[l])\n",
    "            l -= 1\n",
    "        end\n",
    "        tmp = a[l]\n",
    "        a[l] = a[j]\n",
    "        a[j] = tmp\n",
    "        k = j+1\n",
    "        l = n\n",
    "        while(k < l)\n",
    "            tmp = a[k]\n",
    "            a[k] = a[l]\n",
    "            a[l] = tmp\n",
    "            k += 1\n",
    "            l -= 1\n",
    "        end\n",
    "    end\n",
    "end\n",
    "\n",
    "\"\"\"\n",
    "    generate_basis_state(N::Int, j::Int, k::Int)\n",
    "\n",
    "Generate basis column vector of length `N` with `j` excitations (assuming at most one excitation per channel).\n",
    "`1 ≤ k ≤ binomial(N, j)` is a unique basis state in the `j`-excitation manifold.\n",
    "\"\"\"\n",
    "function generate_basis_state(N::Int, j::Int, k::Int)\n",
    "    state = zeros(Int, N)\n",
    "    length = binomial(N, j)\n",
    "    @assert j ≤ N \"j > N (we assume one excitation per input at most)\"\n",
    "    @assert 1 ≤ k ≤ length \"k<1 or k>binomial(N, j)\"\n",
    "    for i in 1:j\n",
    "        state[i] = 1\n",
    "    end\n",
    "    # return state\n",
    "    return convert(Vector{ComplexF64}, lpermutations(state)[k])\n",
    "end"
   ]
  },
  {
   "cell_type": "code",
   "execution_count": null,
   "metadata": {},
   "outputs": [],
   "source": []
  },
  {
   "cell_type": "code",
   "execution_count": null,
   "metadata": {},
   "outputs": [],
   "source": []
  },
  {
   "cell_type": "code",
   "execution_count": 5,
   "metadata": {},
   "outputs": [
    {
     "data": {
      "text/plain": [
       "reference_plot"
      ]
     },
     "execution_count": 5,
     "metadata": {},
     "output_type": "execute_result"
    }
   ],
   "source": [
    "\"\"\"\n",
    "    reference_plot(N; colors=false, save_plot_as=nothing, figsize=5, io_labels=true, grid=false)\n",
    "\n",
    "Plot the beam splitter geometry for a Clements decomposition of an arbitrary N×N unitary.\n",
    "\"\"\"\n",
    "function reference_plot(N; colors=false, save_plot_as=nothing, figsize=5, io_labels=true, grid=false)\n",
    "    fig, ax = plt.subplots(figsize=(figsize, figsize))\n",
    "    # function annotate(i, j, x, y)\n",
    "    #     text = plt.annotate(\n",
    "    #         L\"$T_{$i$j}$\", (x, y), color=\"red\", zorder=10,\n",
    "    #         bbox=Dict([(\"boxstyle\", \"rarrow,pad=0.3\"), (\"fc\", \"white\"), (\"ec\", \"r\"), (\"lw\", 2)])\n",
    "    #     )\n",
    "    #     text.set_rotation(45)\n",
    "    # end\n",
    "    \n",
    "    # construct line segments\n",
    "    lines = []\n",
    "    for i in 1:N\n",
    "        line = [(0, -i*1.), (1/2, -i)]\n",
    "        if i%2 == 0 || i == N\n",
    "            if i == N\n",
    "                if N%2 == 1\n",
    "                    push!(line, (3/2, -i), (N+1/2, -1))\n",
    "                else\n",
    "                    push!(line, (N-1/2, -1))\n",
    "                end\n",
    "            else\n",
    "                push!(line, (0, -i*1.), (1/2, -i), (i, -1/2), (N+1/2, -N+i-1))\n",
    "            end\n",
    "        else\n",
    "            if i == 1\n",
    "                push!(line, (N-1/2, -N))\n",
    "            else\n",
    "                push!(line, (N-i+1, -N-1/2), (N+1/2, -N+i-1))\n",
    "            end\n",
    "        end\n",
    "        push!(line, (N+1, -N+i-1))\n",
    "        push!(lines, line)\n",
    "    end\n",
    "    \n",
    "    # setup plot configs\n",
    "    mc = plt.matplotlib.collections\n",
    "    if colors\n",
    "        colors = [plt.matplotlib.colors.to_rgba(c) for c in plt.matplotlib.rcParams[\"axes.prop_cycle\"].by_key()[\"color\"]]\n",
    "        lc = mc.LineCollection(lines, color=colors, linewidths=2)\n",
    "    else\n",
    "        lc = mc.LineCollection(lines, color=\"k\", linewidths=2)\n",
    "    end\n",
    "    ax.add_collection(lc)\n",
    "    plt.gca().set_aspect(\"equal\")\n",
    "    ax.set_xticklabels([])\n",
    "    ax.spines[\"top\"].set_visible(false)\n",
    "    ax.spines[\"right\"].set_visible(false)\n",
    "    ax.spines[\"bottom\"].set_visible(false)\n",
    "    ax.spines[\"left\"].set_visible(false)\n",
    "    plt.tick_params(bottom=false, left=false)\n",
    "    if io_labels\n",
    "        ax.set_yticks(collect(-1:-1:-N))\n",
    "        ax.set_yticklabels(collect(N:-1:1))\n",
    "        ax.tick_params(labelright=true)\n",
    "        pad = -20 / 5 * figsize\n",
    "        ax.yaxis.set_tick_params(pad=pad)\n",
    "    else\n",
    "        ax.set_yticklabels([])\n",
    "    end\n",
    "    ax.margins(0.1)\n",
    "    if grid\n",
    "        plt.grid(grid)\n",
    "        ax.set_xticks(collect(1:N))\n",
    "        plt.ylim(-1/2, -(N + 1/2))\n",
    "    end\n",
    "    if !isnothing(save_plot_as)\n",
    "        plt.savefig(save_plot_as)\n",
    "    end\n",
    "end"
   ]
  },
  {
   "cell_type": "code",
   "execution_count": 70,
   "metadata": {},
   "outputs": [
    {
     "data": {
      "text/plain": [
       "clements_decomposition"
      ]
     },
     "execution_count": 70,
     "metadata": {},
     "output_type": "execute_result"
    }
   ],
   "source": [
    "# https://stackoverflow.com/questions/37101324/how-to-zero-out-small-values-in-an-array#answer-37101609\n",
    "function sparsify(x, eps) \n",
    "    if abs(x) < eps\n",
    "        return 0.0\n",
    "    elseif abs(real(x)) < eps\n",
    "        return imag(x) * 1im\n",
    "    elseif abs(imag(x)) < eps\n",
    "        return real(x)\n",
    "    end\n",
    "    return x\n",
    "end\n",
    "\n",
    "function sparsify(x) \n",
    "    eps = 1e-8\n",
    "    if abs(x) < eps\n",
    "        return 0.0\n",
    "    elseif abs(real(x)) < eps\n",
    "        return imag(x) * 1im\n",
    "    elseif abs(imag(x)) < eps\n",
    "        return real(x)\n",
    "    end\n",
    "    return x\n",
    "end\n",
    "\n",
    "##################################################################################################################################\n",
    "# Convenience functions for computing Tₘₙ(θ,ϕ) and Tₘₙ⁻¹(θ,ϕ) as defined in http://dx.doi.org/10.1364/OPTICA.3.001460 for n=m+1\n",
    "##################################################################################################################################\n",
    "function Tdiagonal(N, m, θ, ϕ; inv=false)\n",
    "    values = ones(ComplexF64, N)\n",
    "    values[m] = exp(1im * (-1)^Int(inv) * ϕ) * cos(θ)\n",
    "    values[m+1] = cos(θ)\n",
    "    return values\n",
    "end\n",
    "\n",
    "function Tlowerdiagonal(N, m, θ, ϕ; inv=false)\n",
    "    values = zeros(ComplexF64, N-1)\n",
    "    if inv\n",
    "        values[m] = -sin(θ)\n",
    "    else\n",
    "        values[m] = exp(1im * ϕ) * sin(θ)\n",
    "    end\n",
    "    return values\n",
    "end\n",
    "\n",
    "function Tupperdiagonal(N, m, θ, ϕ; inv=false)\n",
    "    values = zeros(ComplexF64, N-1)\n",
    "    if inv\n",
    "        values[m] = exp(-1im * ϕ) * sin(θ)\n",
    "    else   \n",
    "        values[m] = -sin(θ)\n",
    "    end\n",
    "    return values\n",
    "end\n",
    "\n",
    "\"\"\"\n",
    "    Tmn(N::Int, m::Int, θ::Real, ϕ::Real; inv::Bool=false)\n",
    "\n",
    "Compute Tₘₙ(θ,ϕ) of dimension N×N (or Tₘₙ⁻¹(θ,ϕ) when `inv=true`) as described in [this paper](http://dx.doi.org/10.1364/OPTICA.3.001460) when `n=m+1`.\n",
    "\"\"\"\n",
    "function Tmn(N::Int, m::Int, θ::Real, ϕ::Real; inv::Bool=false)\n",
    "    diagm(0 => Tdiagonal(N, m, θ, ϕ, inv=inv), \n",
    "         -1 => Tlowerdiagonal(N, m, θ, ϕ, inv=inv), \n",
    "          1 => Tupperdiagonal(N, m, θ, ϕ, inv=inv)\n",
    "    )\n",
    "end\n",
    "\n",
    "function Tmn(N::Int, m::Int, n::Int, θ::Real, ϕ::Real; inv::Bool=false)\n",
    "    T = diagm(0 => Complex[1. for _ in 1:N])\n",
    "    T[m, m] = exp(1im * (-1)^Int(inv) * ϕ) * cos(θ)\n",
    "    T[n, n] = cos(θ)\n",
    "    if inv\n",
    "        T[m, n] = exp(-1im * ϕ) * sin(θ)\n",
    "        T[n, m] = -sin(θ)\n",
    "    else\n",
    "        T[m, n] = -sin(θ)\n",
    "        T[n, m] = exp(1im * ϕ) * sin(θ)\n",
    "    end\n",
    "    return T\n",
    "end\n",
    "\n",
    "function Tmn(N::Int, m::Int, n::Int, θ::Real, ϕ::Real; inv::Bool=false, T::Array{Complex}=diagm(0 => Complex[1. for _ in 1:N]))\n",
    "    T .= diagm(0 => Complex[1. for _ in 1:N])\n",
    "    T[m, m] = exp(1im * (-1)^Int(inv) * ϕ) * cos(θ)\n",
    "    T[n, n] = cos(θ)\n",
    "    if inv\n",
    "        T[m, n] = exp(-1im * ϕ) * sin(θ)\n",
    "        T[n, m] = -sin(θ)\n",
    "    else\n",
    "        T[m, n] = -sin(θ)\n",
    "        T[n, m] = exp(1im * ϕ) * sin(θ)\n",
    "    end\n",
    "    return T\n",
    "end\n",
    "\n",
    "##################################################################################################################################\n",
    "# Convenience functions for computing appropriate nulling θ, ϕ for Tₘₙ(θ,ϕ) and Tₘₙ⁻¹(θ,ϕ) as defined in \n",
    "# http://dx.doi.org/10.1364/OPTICA.3.001460\n",
    "##################################################################################################################################\n",
    "\n",
    "# F[1] (F[2]) are the real (imaginary) expressions for [Tₘₙ(θ,ϕ)×U]ₖₗ\n",
    "function f!(F, x, k::Int, l::Int, u1::Complex, u2::Complex)\n",
    "    θ = x[1]\n",
    "    ϕ = x[2]\n",
    "    F[1] = real(u1) * cos(ϕ) * sin(θ) - imag(u1) * sin(ϕ) * sin(θ) + real(u2) * cos(θ)\n",
    "    F[2] = real(u1) * sin(ϕ) * sin(θ) + imag(u1) * cos(ϕ) * sin(θ) + imag(u2) * cos(θ) \n",
    "end\n",
    "\n",
    "# The Jacobian for the system of equations described by F[1], F[2] in f! as a function of θ, ϕ\n",
    "function j!(J, x, k::Int, l::Int, u1::Complex, u2::Complex)\n",
    "    θ = x[1]\n",
    "    ϕ = x[2]\n",
    "    J[1, 1] =  real(u1) * cos(ϕ) * cos(θ) - imag(u1) * sin(ϕ) * cos(θ) - real(u2) * sin(θ)\n",
    "    J[1, 2] = -real(u1) * sin(ϕ) * sin(θ) - imag(u1) * cos(ϕ) * sin(θ)\n",
    "    J[2, 1] =  real(u1) * sin(ϕ) * cos(θ) + imag(u1) * cos(ϕ) * cos(θ) - imag(u2) * sin(θ)\n",
    "    J[2, 2] =  real(u1) * cos(ϕ) * sin(θ) - imag(u1) * sin(ϕ) * sin(θ)\n",
    "end\n",
    "\n",
    "# F[1] (F[2]) are the real (imaginary) expressions for [U×Tₘₙ⁻¹(θ,ϕ)]ₖₗ\n",
    "function finv!(F, x, k::Int, l::Int, u1::Complex, u2::Complex)\n",
    "    θ = x[1]\n",
    "    ϕ = x[2]\n",
    "    F[1] =  real(u1) * cos(ϕ) * cos(θ) + imag(u1) * sin(ϕ) * cos(θ) - real(u2) * sin(θ)\n",
    "    F[2] = -real(u1) * sin(ϕ) * cos(θ) + imag(u1) * cos(ϕ) * cos(θ) - imag(u2) * sin(θ)\n",
    "end\n",
    "\n",
    "# The Jacobian for the system of equations described by F[1], F[2] in finv! as a function of θ, ϕ\n",
    "function jinv!(J, x, k::Int, l::Int, u1::Complex, u2::Complex)\n",
    "    θ = x[1]\n",
    "    ϕ = x[2]\n",
    "    J[1, 1] = -real(u1) * cos(ϕ) * sin(θ) - imag(u1) * sin(ϕ) * sin(θ) - real(u2) * cos(θ)\n",
    "    J[1, 2] = -real(u1) * sin(ϕ) * cos(θ) + imag(u1) * cos(ϕ) * cos(θ)\n",
    "    J[2, 1] =  real(u1) * sin(ϕ) * sin(θ) - imag(u1) * cos(ϕ) * sin(θ) - imag(u2) * cos(θ)\n",
    "    J[2, 2] = -real(u1) * cos(ϕ) * cos(θ) - imag(u1) * sin(ϕ) * cos(θ)\n",
    "end\n",
    "\n",
    "\"\"\"\n",
    "    clements_decomposition(U::Array{<:Complex})\n",
    "\n",
    "Takes an arbitrary unitary and decomposes it into elementary beam splitter operations according to the \n",
    "[Clements algorithm](http://dx.doi.org/10.1364/OPTICA.3.001460). Returns a tuple with the first element\n",
    "a diagonal matrix `D` describing some combination of single mode phase shifts and  a list of tuples\n",
    "specificying elementary beam splitter operations `(m, n=m+1, θ, ϕ)` (see ref) such that one may construct\n",
    "`U = D × .. × Tₘₙ(θ, ϕ).\n",
    "\"\"\"\n",
    "function clements_decomposition(U::Array{<:Complex}; p0=[0, π])\n",
    "    N, M = size(U)\n",
    "    right_multipliers = []\n",
    "    left_multipliers = []\n",
    "    reverse_left_multipliers = []\n",
    "    @assert N == M && U * U' ≈ diagm(0 => [1 for i in 1:N]) \"only implemented for unitary arrays\"\n",
    "    Uc = copy(U)\n",
    "    # T = diagm(0 => Complex[1. for _ in 1:N])\n",
    "    for i in 1:N-1, j in 1:i\n",
    "        θ, ϕ = 0., 0.\n",
    "        if i%2 == 1\n",
    "            m = i - j + 1\n",
    "            n = m + 1\n",
    "            k = N - j + 1\n",
    "            l = m\n",
    "            # Solve for Tₘₙ⁻¹(θ,ϕ) such that [U×Tₘₙ⁻¹(θ,ϕ)]ₖₗ = 0\n",
    "            if abs(Uc[k, l]) > 1e-6\n",
    "                u1 = Uc[k, l]\n",
    "                u2 = Uc[k, l+1]\n",
    "                s = nlsolve((F, x) -> finv!(F, x, k, l, u1, u2), (J, x) -> jinv!(J, x, k, l, u1, u2), p0)\n",
    "                @assert s.f_converged \"Solver failed to converge when nulling U_{$k, $l}.\"\n",
    "                θ, ϕ = s.zero\n",
    "                θ = θ #% (π/2)\n",
    "                ϕ = ϕ #% (2π)\n",
    "            end\n",
    "            push!(right_multipliers, (m, n, θ, ϕ))\n",
    "            Uc = Uc * Tmn(N, m, θ, ϕ, inv=true)\n",
    "        else\n",
    "            m = N - i + j - 1\n",
    "            n = m + 1\n",
    "            k = n\n",
    "            l = j\n",
    "            # Solve for Tₘₙ(θ,ϕ) such that [Tₘₙ(θ,ϕ)×U]ₖₗ = 0\n",
    "            if abs(Uc[k, l]) > 1e-6\n",
    "                u1 = Uc[k-1, l]\n",
    "                u2 = Uc[k, l]\n",
    "                s = nlsolve((F, x) -> f!(F, x, k, l, u1, u2), (J, x) -> j!(J, x, k, l, u1, u2), p0)\n",
    "                @assert s.f_converged \"Solver failed to converge when nulling U_{$k, $l}.\"\n",
    "                θ, ϕ = s.zero\n",
    "                θ = θ #% (π/2)\n",
    "                ϕ = ϕ #% (2π)\n",
    "            end\n",
    "            push!(left_multipliers, (m, n, θ, ϕ))\n",
    "            Uc = Tmn(N, m, θ, ϕ, inv=false) * Uc\n",
    "        end\n",
    "    end\n",
    "    for multiplier in reverse(left_multipliers)\n",
    "        m, n, θ, ϕ1 = multiplier\n",
    "        φ1 = atan(imag(Uc[m, m]), real(Uc[m, m]))\n",
    "        φ2 = atan(imag(Uc[n, n]), real(Uc[n, n]))\n",
    "        Uc[m, m] = exp(1im * (φ2 - ϕ1 + π))\n",
    "        ϕ2 = φ1 - π - φ2\n",
    "        push!(reverse_left_multipliers, (m, n, θ, ϕ2))\n",
    "    end\n",
    "    return Uc, vcat(right_multipliers, reverse_left_multipliers)\n",
    "end"
   ]
  },
  {
   "cell_type": "markdown",
   "metadata": {
    "tags": []
   },
   "source": [
    "# calculations"
   ]
  },
  {
   "cell_type": "markdown",
   "metadata": {
    "jp-MarkdownHeadingCollapsed": true,
    "tags": []
   },
   "source": [
    "## Test"
   ]
  },
  {
   "cell_type": "code",
   "execution_count": 128,
   "metadata": {},
   "outputs": [],
   "source": [
    "dim = 20\n",
    "d = Haar(2)\n",
    "R = rand(d, dim);"
   ]
  },
  {
   "cell_type": "code",
   "execution_count": 129,
   "metadata": {},
   "outputs": [
    {
     "name": "stdout",
     "output_type": "stream",
     "text": [
      "  0.047507 seconds (59.54 k allocations: 5.147 MiB, 59.62% gc time)\n"
     ]
    },
    {
     "data": {
      "text/plain": [
       "20×20 Matrix{Number}:\n",
       " 0.999919-0.0127251im           0.0          …           0.0\n",
       "         0.0           -0.828911-0.559381im              0.0\n",
       "         0.0                    0.0                      0.0\n",
       "         0.0                    0.0                      0.0\n",
       "         0.0                    0.0                      0.0\n",
       "         0.0                    0.0          …           0.0\n",
       "         0.0                    0.0                      0.0\n",
       "         0.0                    0.0                      0.0\n",
       "         0.0                    0.0                      0.0\n",
       "         0.0                    0.0                      0.0\n",
       "         0.0                    0.0          …           0.0\n",
       "         0.0                    0.0                      0.0\n",
       "         0.0                    0.0                      0.0\n",
       "         0.0                    0.0                      0.0\n",
       "         0.0                    0.0                      0.0\n",
       "         0.0                    0.0          …           0.0\n",
       "         0.0                    0.0                      0.0\n",
       "         0.0                    0.0                      0.0\n",
       "         0.0                    0.0                      0.0\n",
       "         0.0                    0.0             -0.330609-0.943768im"
      ]
     },
     "execution_count": 129,
     "metadata": {},
     "output_type": "execute_result"
    }
   ],
   "source": [
    "@time D, c = clements_decomposition(R); sparsify.(D, 1e-6)"
   ]
  },
  {
   "cell_type": "code",
   "execution_count": 130,
   "metadata": {},
   "outputs": [
    {
     "name": "stdout",
     "output_type": "stream",
     "text": [
      "(m,n)   refl.  ϕ\n",
      "----------------------------\n",
      " 1,2:   0.86,  (417//500)π\n",
      " 3,4:   0.89,  (211//250)π\n",
      " 2,3:   0.4,  (197//200)π\n",
      " 1,2:   0.08,  (111//125)π\n",
      " 5,6:   0.84,  (561//500)π\n",
      " 4,5:   0.16,  (4617//1000)π\n",
      " 3,4:   0.09,  (1139//1000)π\n",
      " 2,3:   0.09,  (57//50)π\n",
      " 1,2:   0.14,  (1279//1000)π\n",
      " 7,8:   0.77,  (619//500)π\n",
      " 6,7:   0.32,  (113//200)π\n",
      " 5,6:   0.07,  (529//1000)π\n",
      " 4,5:   0.1,  (79//125)π\n",
      " 3,4:   0.15,  (829//1000)π\n",
      " 2,3:   0.42,  (951//1000)π\n",
      " 1,2:   0.28,  (151//125)π\n",
      " 9,10:   0.33,  (1193//1000)π\n",
      " 8,9:   0.05,  (979//1000)π\n",
      " 7,8:   0.03,  (247//200)π\n",
      " 6,7:   0.29,  (359//250)π\n",
      " 5,6:   0.13,  (-3341//1000)π\n",
      " 4,5:   0.04,  (1387//1000)π\n",
      " 3,4:   0.03,  (871//1000)π\n",
      " 2,3:   0.12,  (727//1000)π\n",
      " 1,2:   0.19,  (2727//500)π\n",
      " 11,12:   0.24,  (797//1000)π\n",
      " 10,11:   0.17,  (529//1000)π\n",
      " 9,10:   0.04,  (381//500)π\n",
      " 8,9:   0.18,  (-31//25)π\n",
      " 7,8:   0.1,  (143//125)π\n",
      " 6,7:   0.12,  (1747//500)π\n",
      " 5,6:   0.11,  (103//100)π\n",
      " 4,5:   0.27,  (1193//1000)π\n",
      " 3,4:   0.1,  (123//200)π\n",
      " 2,3:   0.13,  (397//500)π\n",
      " 1,2:   0.01,  (721//1000)π\n",
      " 13,14:   0.79,  (109//200)π\n",
      " 12,13:   0.79,  (773//1000)π\n",
      " 11,12:   0.01,  (849//1000)π\n",
      " 10,11:   0.13,  (529//500)π\n",
      " 9,10:   0.02,  (88//125)π\n",
      " 8,9:   0.08,  (423//500)π\n",
      " 7,8:   0.05,  (559//500)π\n",
      " 6,7:   0.07,  (659//1000)π\n",
      " 5,6:   0.01,  (807//1000)π\n",
      " 4,5:   0.06,  (603//1000)π\n",
      " 3,4:   0.07,  (1009//1000)π\n",
      " 2,3:   0.03,  (551//1000)π\n",
      " 1,2:   0.36,  (631//1000)π\n",
      " 15,16:   0.65,  (153//200)π\n",
      " 14,15:   0.33,  (401//500)π\n",
      " 13,14:   0.04,  (51//100)π\n",
      " 12,13:   0.06,  (287//200)π\n",
      " 11,12:   0.01,  (99//100)π\n",
      " 10,11:   0.0,  (137//125)π\n",
      " 9,10:   0.02,  (201//250)π\n",
      " 8,9:   0.06,  (1271//1000)π\n",
      " 7,8:   0.11,  (697//1000)π\n",
      " 6,7:   0.11,  (89//125)π\n",
      " 5,6:   0.28,  (1117//1000)π\n",
      " 4,5:   0.01,  (747//500)π\n",
      " 3,4:   0.1,  (403//500)π\n",
      " 2,3:   0.16,  (331//250)π\n",
      " 1,2:   0.24,  (483//500)π\n",
      " 17,18:   0.47,  (1249//1000)π\n",
      " 16,17:   0.61,  (1243//1000)π\n",
      " 15,16:   0.35,  (28//25)π\n",
      " 14,15:   0.07,  (1261//1000)π\n",
      " 13,14:   0.02,  (73//100)π\n",
      " 12,13:   0.01,  (233//200)π\n",
      " 11,12:   0.04,  (1387//1000)π\n",
      " 10,11:   0.03,  (1127//1000)π\n",
      " 9,10:   0.04,  (21//40)π\n",
      " 8,9:   0.0,  (289//200)π\n",
      " 7,8:   0.08,  (1021//1000)π\n",
      " 6,7:   0.02,  (73//125)π\n",
      " 5,6:   0.06,  (98//125)π\n",
      " 4,5:   0.04,  (627//500)π\n",
      " 3,4:   0.06,  (591//500)π\n",
      " 2,3:   0.32,  (509//1000)π\n",
      " 1,2:   0.29,  (191//250)π\n",
      " 19,20:   0.05,  (469//500)π\n",
      " 18,19:   0.32,  (529//1000)π\n",
      " 17,18:   0.08,  (63//50)π\n",
      " 16,17:   0.05,  (87//100)π\n",
      " 15,16:   0.14,  (158//125)π\n",
      " 14,15:   0.15,  (587//500)π\n",
      " 13,14:   0.06,  (1187//1000)π\n",
      " 12,13:   0.18,  (1169//1000)π\n",
      " 11,12:   0.09,  (157//250)π\n",
      " 10,11:   0.01,  (879//1000)π\n",
      " 9,10:   0.02,  (361//500)π\n",
      " 8,9:   0.1,  (541//1000)π\n",
      " 7,8:   0.14,  (5481//1000)π\n",
      " 6,7:   0.09,  (739//500)π\n",
      " 5,6:   0.16,  (649//1000)π\n",
      " 4,5:   0.13,  (781//1000)π\n",
      " 3,4:   0.57,  (168//125)π\n",
      " 2,3:   0.14,  (-41//100)π\n",
      " 1,2:   0.01,  (1169//1000)π\n",
      " 19,20:   0.46,  (281//1000)π\n",
      " 18,19:   0.04,  (-453//500)π\n",
      " 17,18:   0.02,  (1//50)π\n",
      " 16,17:   0.15,  (-151//100)π\n",
      " 15,16:   0.06,  (171//200)π\n",
      " 14,15:   0.05,  (-571//500)π\n",
      " 13,14:   0.02,  (-1083//500)π\n",
      " 12,13:   0.22,  (-261//1000)π\n",
      " 11,12:   0.02,  (-24//125)π\n",
      " 10,11:   0.09,  (-267//250)π\n",
      " 9,10:   0.0,  (-407//1000)π\n",
      " 8,9:   0.01,  (-889//1000)π\n",
      " 7,8:   0.03,  (-129//500)π\n",
      " 6,7:   0.05,  (-1483//1000)π\n",
      " 5,6:   0.06,  (-1163//1000)π\n",
      " 4,5:   0.29,  (-149//1000)π\n",
      " 3,4:   0.08,  (-57//50)π\n",
      " 2,3:   0.3,  (-227//250)π\n",
      " 19,20:   0.01,  (-483//500)π\n",
      " 18,19:   0.35,  (-821//1000)π\n",
      " 17,18:   0.06,  (97//200)π\n",
      " 16,17:   0.03,  (-799//500)π\n",
      " 15,16:   0.13,  (-23//1000)π\n",
      " 14,15:   0.02,  (-921//1000)π\n",
      " 13,14:   0.01,  (-527//500)π\n",
      " 12,13:   0.02,  (-597//500)π\n",
      " 11,12:   0.01,  (-33//20)π\n",
      " 10,11:   0.05,  (-219//250)π\n",
      " 9,10:   0.04,  (-133//500)π\n",
      " 8,9:   0.23,  (-113//100)π\n",
      " 7,8:   0.07,  (-889//1000)π\n",
      " 6,7:   0.0,  (-27//200)π\n",
      " 5,6:   0.22,  (-2031//1000)π\n",
      " 4,5:   0.69,  (-226//125)π\n",
      " 19,20:   0.41,  (-991//1000)π\n",
      " 18,19:   0.58,  (-177//125)π\n",
      " 17,18:   0.1,  (-22//25)π\n",
      " 16,17:   0.05,  (-739//500)π\n",
      " 15,16:   0.07,  (-397//500)π\n",
      " 14,15:   0.1,  (-1203//1000)π\n",
      " 13,14:   0.01,  (-909//500)π\n",
      " 12,13:   0.06,  (-1103//1000)π\n",
      " 11,12:   0.3,  (-1477//1000)π\n",
      " 10,11:   0.29,  (-331//200)π\n",
      " 9,10:   0.01,  (-227//500)π\n",
      " 8,9:   0.02,  (-319//1000)π\n",
      " 7,8:   0.24,  (-227//125)π\n",
      " 6,7:   0.36,  (-3//100)π\n",
      " 19,20:   0.37,  (-551//1000)π\n",
      " 18,19:   0.19,  (-51//50)π\n",
      " 17,18:   0.09,  (-557//1000)π\n",
      " 16,17:   0.15,  (-601//1000)π\n",
      " 15,16:   0.08,  (-231//500)π\n",
      " 14,15:   0.1,  (-177//500)π\n",
      " 13,14:   0.12,  (-24//25)π\n",
      " 12,13:   0.05,  (-267//250)π\n",
      " 11,12:   0.06,  (-507//1000)π\n",
      " 10,11:   0.16,  (-2077//1000)π\n",
      " 9,10:   0.34,  (-1737//1000)π\n",
      " 8,9:   0.74,  (-257//1000)π\n",
      " 19,20:   0.58,  (-171//200)π\n",
      " 18,19:   0.03,  (-517//500)π\n",
      " 17,18:   0.23,  (-313//500)π\n",
      " 16,17:   0.17,  (-899//1000)π\n",
      " 15,16:   0.03,  (-53//250)π\n",
      " 14,15:   0.2,  (-233//500)π\n",
      " 13,14:   0.01,  (-281//500)π\n",
      " 12,13:   0.24,  (-241//100)π\n",
      " 11,12:   0.12,  (-531//1000)π\n",
      " 10,11:   0.49,  (-1279//1000)π\n",
      " 19,20:   0.07,  (-1109//1000)π\n",
      " 18,19:   0.21,  (-144//125)π\n",
      " 17,18:   0.01,  (-473//500)π\n",
      " 16,17:   0.02,  (-209//250)π\n",
      " 15,16:   0.23,  (-2291//1000)π\n",
      " 14,15:   0.2,  (-2373//1000)π\n",
      " 13,14:   0.72,  (-1333//1000)π\n",
      " 12,13:   0.5,  (-617//500)π\n",
      " 19,20:   0.33,  (-557//500)π\n",
      " 18,19:   0.1,  (-617//500)π\n",
      " 17,18:   0.18,  (-13//10)π\n",
      " 16,17:   0.16,  (149//500)π\n",
      " 15,16:   0.32,  (401//500)π\n",
      " 14,15:   0.22,  (441//1000)π\n",
      " 19,20:   0.27,  (-83//125)π\n",
      " 18,19:   0.17,  (-1341//1000)π\n",
      " 17,18:   0.19,  (-673//500)π\n",
      " 16,17:   0.37,  (-403//250)π\n",
      " 19,20:   0.18,  (-73//100)π\n",
      " 18,19:   0.43,  (-441//500)π\n"
     ]
    }
   ],
   "source": [
    "M = diagm(0 => ones(Complex, dim))\n",
    "println(\"(m,n)   refl.  ϕ\")\n",
    "println(\"----------------------------\")\n",
    "for (l, i) in enumerate(c)\n",
    "    println(\" $(i[1]),$(i[1] + 1):   $(round(cos(i[3])^2, digits=2)),  ($(rationalize(round(i[4]/π, digits=3))))π\")\n",
    "    M = Tmn(dim, i[1], i[3], i[4]) * M\n",
    "end"
   ]
  },
  {
   "cell_type": "code",
   "execution_count": 137,
   "metadata": {},
   "outputs": [
    {
     "data": {
      "text/plain": [
       "20×20 Matrix{Float64}:\n",
       " 0.0  0.0  0.0  0.0  0.0  0.0  0.0  0.0  …  0.0  0.0  0.0  0.0  0.0  0.0  0.0\n",
       " 0.0  0.0  0.0  0.0  0.0  0.0  0.0  0.0     0.0  0.0  0.0  0.0  0.0  0.0  0.0\n",
       " 0.0  0.0  0.0  0.0  0.0  0.0  0.0  0.0     0.0  0.0  0.0  0.0  0.0  0.0  0.0\n",
       " 0.0  0.0  0.0  0.0  0.0  0.0  0.0  0.0     0.0  0.0  0.0  0.0  0.0  0.0  0.0\n",
       " 0.0  0.0  0.0  0.0  0.0  0.0  0.0  0.0     0.0  0.0  0.0  0.0  0.0  0.0  0.0\n",
       " 0.0  0.0  0.0  0.0  0.0  0.0  0.0  0.0  …  0.0  0.0  0.0  0.0  0.0  0.0  0.0\n",
       " 0.0  0.0  0.0  0.0  0.0  0.0  0.0  0.0     0.0  0.0  0.0  0.0  0.0  0.0  0.0\n",
       " 0.0  0.0  0.0  0.0  0.0  0.0  0.0  0.0     0.0  0.0  0.0  0.0  0.0  0.0  0.0\n",
       " 0.0  0.0  0.0  0.0  0.0  0.0  0.0  0.0     0.0  0.0  0.0  0.0  0.0  0.0  0.0\n",
       " 0.0  0.0  0.0  0.0  0.0  0.0  0.0  0.0     0.0  0.0  0.0  0.0  0.0  0.0  0.0\n",
       " 0.0  0.0  0.0  0.0  0.0  0.0  0.0  0.0  …  0.0  0.0  0.0  0.0  0.0  0.0  0.0\n",
       " 0.0  0.0  0.0  0.0  0.0  0.0  0.0  0.0     0.0  0.0  0.0  0.0  0.0  0.0  0.0\n",
       " 0.0  0.0  0.0  0.0  0.0  0.0  0.0  0.0     0.0  0.0  0.0  0.0  0.0  0.0  0.0\n",
       " 0.0  0.0  0.0  0.0  0.0  0.0  0.0  0.0     0.0  0.0  0.0  0.0  0.0  0.0  0.0\n",
       " 0.0  0.0  0.0  0.0  0.0  0.0  0.0  0.0     0.0  0.0  0.0  0.0  0.0  0.0  0.0\n",
       " 0.0  0.0  0.0  0.0  0.0  0.0  0.0  0.0  …  0.0  0.0  0.0  0.0  0.0  0.0  0.0\n",
       " 0.0  0.0  0.0  0.0  0.0  0.0  0.0  0.0     0.0  0.0  0.0  0.0  0.0  0.0  0.0\n",
       " 0.0  0.0  0.0  0.0  0.0  0.0  0.0  0.0     0.0  0.0  0.0  0.0  0.0  0.0  0.0\n",
       " 0.0  0.0  0.0  0.0  0.0  0.0  0.0  0.0     0.0  0.0  0.0  0.0  0.0  0.0  0.0\n",
       " 0.0  0.0  0.0  0.0  0.0  0.0  0.0  0.0     0.0  0.0  0.0  0.0  0.0  0.0  0.0"
      ]
     },
     "execution_count": 137,
     "metadata": {},
     "output_type": "execute_result"
    }
   ],
   "source": [
    "sparsify.(D * M - R)"
   ]
  },
  {
   "cell_type": "code",
   "execution_count": 136,
   "metadata": {},
   "outputs": [
    {
     "data": {
      "text/plain": [
       "6.08955397555701e-8"
      ]
     },
     "execution_count": 136,
     "metadata": {},
     "output_type": "execute_result"
    }
   ],
   "source": [
    "norm(D * M - R)"
   ]
  },
  {
   "cell_type": "markdown",
   "metadata": {
    "tags": []
   },
   "source": [
    "## Decompose symmetric 4-port beam splitter unitary"
   ]
  },
  {
   "cell_type": "code",
   "execution_count": 142,
   "metadata": {},
   "outputs": [
    {
     "data": {
      "text/plain": [
       "4×4 Matrix{Float64}:\n",
       " 0.5   0.5   0.5   0.5\n",
       " 0.5   0.5  -0.5  -0.5\n",
       " 0.5  -0.5   0.5  -0.5\n",
       " 0.5  -0.5  -0.5   0.5"
      ]
     },
     "execution_count": 142,
     "metadata": {},
     "output_type": "execute_result"
    }
   ],
   "source": [
    "# Symmetric 4-port beam splitters are constrained to the following form\n",
    "\n",
    "ϕv = 0\n",
    "U = ComplexF64[\n",
    "    1         1         1         1\n",
    "    1   exp(1im * ϕv)  -1  -exp(1im * ϕv)\n",
    "    1        -1         1        -1\n",
    "    1  -exp(1im * ϕv)  -1   exp(1im * ϕv)\n",
    "]/2; sparsify.(U)"
   ]
  },
  {
   "cell_type": "code",
   "execution_count": 167,
   "metadata": {},
   "outputs": [
    {
     "data": {
      "text/plain": [
       "4×4 Matrix{Float64}:\n",
       " 1.0  0.0   0.0  0.0\n",
       " 0.0  1.0   0.0  0.0\n",
       " 0.0  0.0  -1.0  0.0\n",
       " 0.0  0.0   0.0  1.0"
      ]
     },
     "execution_count": 167,
     "metadata": {},
     "output_type": "execute_result"
    }
   ],
   "source": [
    "dim = size(U)[1]\n",
    "D, c = clements_decomposition(U, p0=[0.1, 0.15]); sparsify.(D, 1e-6)"
   ]
  },
  {
   "cell_type": "code",
   "execution_count": 168,
   "metadata": {},
   "outputs": [
    {
     "name": "stdout",
     "output_type": "stream",
     "text": [
      "(m,n)   refl.  ϕ\n",
      "----------------------------\n",
      " 1,2:   0.5,  (0//1)π\n",
      " 3,4:   0.5,  (0//1)π\n",
      " 2,3:   0.0,  (6//125)π\n",
      " 1,2:   0.5,  (0//1)π\n",
      " 3,4:   0.5,  (-6//125)π\n",
      " 2,3:   1.0,  (0//1)π\n"
     ]
    }
   ],
   "source": [
    "M = diagm(0 => ones(Complex, dim))\n",
    "println(\"(m,n)   refl.  ϕ\")\n",
    "println(\"----------------------------\")\n",
    "for (l, i) in enumerate(c)\n",
    "    println(\" $(i[1]),$(i[1] + 1):   $(round(cos(i[3])^2, digits=2)),  ($(rationalize(round(i[4]/π, digits=3))))π\")\n",
    "    M = Tmn(dim, i[1], i[3], i[4]) * M\n",
    "end"
   ]
  },
  {
   "cell_type": "code",
   "execution_count": 166,
   "metadata": {},
   "outputs": [
    {
     "data": {
      "text/plain": [
       "4×4 Matrix{Float64}:\n",
       " 0.5   0.5   0.5   0.5\n",
       " 0.5   0.5  -0.5  -0.5\n",
       " 0.5  -0.5   0.5  -0.5\n",
       " 0.5  -0.5  -0.5   0.5"
      ]
     },
     "execution_count": 166,
     "metadata": {},
     "output_type": "execute_result"
    }
   ],
   "source": [
    "sparsify.(D * M)"
   ]
  },
  {
   "cell_type": "code",
   "execution_count": 161,
   "metadata": {},
   "outputs": [
    {
     "data": {
      "text/plain": [
       "3.702701482014036e-14"
      ]
     },
     "execution_count": 161,
     "metadata": {},
     "output_type": "execute_result"
    }
   ],
   "source": [
    "norm(D * M - U)"
   ]
  },
  {
   "cell_type": "code",
   "execution_count": 17,
   "metadata": {},
   "outputs": [
    {
     "data": {
      "image/png": "[encoded data removed]",
      "text/plain": [
       "PyPlot.Figure(PyObject <Figure size 500x500 with 1 Axes>)"
      ]
     },
     "metadata": {},
     "output_type": "display_data"
    }
   ],
   "source": [
    "reference_plot(4, colors=false, save_plot_as=nothing, io_labels=true, figsize=5, grid=true)"
   ]
  },
  {
   "cell_type": "markdown",
   "metadata": {
    "jp-MarkdownHeadingCollapsed": true,
    "tags": []
   },
   "source": [
    "## Construct unitary as illustrated in poster"
   ]
  },
  {
   "cell_type": "code",
   "execution_count": null,
   "metadata": {},
   "outputs": [
    {
     "data": {
      "text/plain": [
       "4×4 Matrix{Any}:\n",
       " -0.665569+0.0im  -0.672942+0.0im  -0.161374+0.0im    0.279508+0.0im\n",
       " -0.572956+0.0im   0.655217+0.0im  -0.487587+0.0im  -0.0683458+0.0im\n",
       "   0.38809+0.0im  -0.302983+0.0im  -0.823803+0.0im   -0.280956+0.0im\n",
       "  0.279508+0.0im   0.161374+0.0im  -0.239929+0.0im    0.915569+0.0im"
      ]
     },
     "execution_count": 962,
     "metadata": {},
     "output_type": "execute_result"
    }
   ],
   "source": [
    "U_poster = \n",
    "Tmn(4, 2, 3, acos(√2/3), 0) *\n",
    "Tmn(4, 1, 3, acos(√1/4), 0) *\n",
    "Tmn(4, 2, 4, acos(√1/4), 0) *\n",
    "Tmn(4, 2, acos(√1/3), 0) *\n",
    "Tmn(4, 3, acos(√1/2), 0) *\n",
    "Tmn(4, 1, acos(√1/2), 0)"
   ]
  },
  {
   "cell_type": "code",
   "execution_count": null,
   "metadata": {},
   "outputs": [
    {
     "data": {
      "text/plain": [
       "4×4 Matrix{Number}:\n",
       " 1.16557            1.17294    0.661374            0.220492\n",
       " 1.07296   -0.655217+0.5im    -0.0124132  0.0683458-0.5im\n",
       " 0.11191           -0.197017   1.3238             -0.219044\n",
       " 0.220492  -0.161374-0.5im    -0.260071   -0.915569+0.5im"
      ]
     },
     "execution_count": 824,
     "metadata": {},
     "output_type": "execute_result"
    }
   ],
   "source": [
    "sparsify.(U - U_poster)"
   ]
  },
  {
   "cell_type": "code",
   "execution_count": 670,
   "metadata": {},
   "outputs": [
    {
     "data": {
      "text/plain": [
       "4×4 Matrix{Any}:\n",
       "  0.5-9.18485e-17im   0.5-9.18485e-17im  …  -0.5+0.0im\n",
       "  0.5-9.18485e-17im   0.5+3.06162e-17im      0.5+6.12323e-17im\n",
       "  0.5-6.12323e-17im  -0.5-3.7494e-33im       0.5-3.06162e-17im\n",
       " -0.5+6.12323e-17im   0.5+0.0im              0.5+3.06162e-17im"
      ]
     },
     "execution_count": 670,
     "metadata": {},
     "output_type": "execute_result"
    }
   ],
   "source": [
    "U_alt = \n",
    "Tmn(4, 2, 3, π, -π) *\n",
    "Tmn(4, 3, 4, π/4, -π/2) *\n",
    "Tmn(4, 1, 2, π/4, π) *\n",
    "Tmn(4, 2, 3, π/2, π/2) *\n",
    "Tmn(4, 3, 4, π/4, π) *\n",
    "Tmn(4, 1, 2, π/4, π) "
   ]
  },
  {
   "cell_type": "code",
   "execution_count": 671,
   "metadata": {},
   "outputs": [
    {
     "data": {
      "text/plain": [
       "4×4 Matrix{Float64}:\n",
       "  0.5   0.5  -0.5  -0.5\n",
       " -0.5  -0.5  -0.5  -0.5\n",
       "  0.5  -0.5  -0.5   0.5\n",
       " -0.5   0.5  -0.5   0.5"
      ]
     },
     "execution_count": 671,
     "metadata": {},
     "output_type": "execute_result"
    }
   ],
   "source": [
    "sparsify.(D * U_alt)"
   ]
  },
  {
   "cell_type": "code",
   "execution_count": 672,
   "metadata": {},
   "outputs": [
    {
     "data": {
      "text/plain": [
       "4×4 Matrix{Float64}:\n",
       " 1.0  0.0  0.0  0.0\n",
       " 0.0  1.0  0.0  0.0\n",
       " 0.0  0.0  1.0  0.0\n",
       " 0.0  0.0  0.0  1.0"
      ]
     },
     "execution_count": 672,
     "metadata": {},
     "output_type": "execute_result"
    }
   ],
   "source": [
    "sparsify.(U_alt * U_alt')"
   ]
  },
  {
   "cell_type": "code",
   "execution_count": null,
   "metadata": {},
   "outputs": [],
   "source": []
  }
 ],
 "metadata": {
  "kernelspec": {
   "display_name": "Julia 1.7.3",
   "language": "julia",
   "name": "julia-1.7"
  },
  "language_info": {
   "file_extension": ".jl",
   "mimetype": "application/julia",
   "name": "julia",
   "version": "1.7.3"
  }
 },
 "nbformat": 4,
 "nbformat_minor": 4
}
