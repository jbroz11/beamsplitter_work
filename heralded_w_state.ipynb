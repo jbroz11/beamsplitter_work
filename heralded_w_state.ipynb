{
 "cells": [
  {
   "cell_type": "markdown",
   "id": "7fee9d2a-b0f4-4f4e-8c71-6aa9f5efb664",
   "metadata": {
    "tags": []
   },
   "source": [
    "# Imports"
   ]
  },
  {
   "cell_type": "code",
   "execution_count": 6,
   "id": "2e66abdd-d2cb-492f-8352-9501d187dc30",
   "metadata": {},
   "outputs": [],
   "source": [
    "using NLsolve\n",
    "using LinearAlgebra\n",
    "using QuantumOpticsBase\n",
    "using Symbolics\n",
    "using SymbolicUtils"
   ]
  },
  {
   "cell_type": "code",
   "execution_count": 7,
   "id": "1a29e972-8219-4af6-bbd9-84e58f9a945e",
   "metadata": {},
   "outputs": [],
   "source": [
    "import PyPlot\n",
    "const plt = PyPlot;"
   ]
  },
  {
   "cell_type": "code",
   "execution_count": 8,
   "id": "9bbe7983-235f-4722-b271-72bb55fccd9a",
   "metadata": {},
   "outputs": [],
   "source": [
    "include(\"common_code.jl\");"
   ]
  },
  {
   "cell_type": "code",
   "execution_count": 9,
   "id": "093d0f47-a310-4757-8785-71ab70f36b72",
   "metadata": {},
   "outputs": [],
   "source": [
    "include(\"heralded_w_state.jl\");"
   ]
  },
  {
   "cell_type": "markdown",
   "id": "5f7ac621-10af-4676-95d3-7dcfe26695d6",
   "metadata": {
    "tags": []
   },
   "source": [
    "# arbitritter"
   ]
  },
  {
   "cell_type": "markdown",
   "id": "6dc061c6-6e85-4d23-a539-d78a506026e3",
   "metadata": {
    "jp-MarkdownHeadingCollapsed": true,
    "tags": []
   },
   "source": [
    "## Can we distinguish W/M states?"
   ]
  },
  {
   "cell_type": "code",
   "execution_count": 14,
   "id": "11ef0c52-8a1a-4310-ab83-26501b6fa4ce",
   "metadata": {},
   "outputs": [],
   "source": [
    "N = 6;"
   ]
  },
  {
   "cell_type": "code",
   "execution_count": 15,
   "id": "20340bc4-44b1-427b-9de5-348570769db1",
   "metadata": {},
   "outputs": [
    {
     "data": {
      "text/plain": [
       "6×6 Matrix{Number}:\n",
       " 0.408248           0.408248     …           0.408248\n",
       " 0.408248   0.204124+0.353553im      0.204124-0.353553im\n",
       " 0.408248  -0.204124+0.353553im     -0.204124-0.353553im\n",
       " 0.408248          -0.408248                -0.408248\n",
       " 0.408248  -0.204124-0.353553im     -0.204124+0.353553im\n",
       " 0.408248   0.204124-0.353553im  …   0.204124+0.353553im"
      ]
     },
     "execution_count": 15,
     "metadata": {},
     "output_type": "execute_result"
    }
   ],
   "source": [
    "UN = symmetricunitary(N)"
   ]
  },
  {
   "cell_type": "code",
   "execution_count": 16,
   "id": "dae06734-95ee-4b19-beb3-24189702e6bf",
   "metadata": {},
   "outputs": [],
   "source": [
    "states = [\n",
    "    [W(UN * [i == j ? 1 : 0 for i in 1:N]...) for j in 1:N]...,\n",
    "    [M(UN * [i == j ? 1 : 0 for i in 1:N]...) for j in 1:N]...,\n",
    "    [(1, [0 for _ in 1:N])],\n",
    "    [(1, [1 for _ in 1:N])],\n",
    "];"
   ]
  },
  {
   "cell_type": "code",
   "execution_count": 24,
   "id": "c6d9ca63-a30b-4ecc-ae2d-d6420cf7e01f",
   "metadata": {},
   "outputs": [
    {
     "name": "stdout",
     "output_type": "stream",
     "text": [
      "  0.496673 seconds (13.40 M allocations: 1.541 GiB, 43.16% gc time, 10.98% compilation time)\n"
     ]
    }
   ],
   "source": [
    "@time begin\n",
    "    r = []\n",
    "    Threads.@threads for state in states\n",
    "         push!(r, singlephotonclicks(UN, state))\n",
    "    end\n",
    "\n",
    "    for i in 1:length(states), j in i+1:length(states)\n",
    "        if commonelements(map(x->x[3], r[i]), map(x->x[3], r[j])) \n",
    "            println(\"i:$i, j:$j\")\n",
    "        end\n",
    "    end\n",
    "end"
   ]
  },
  {
   "cell_type": "code",
   "execution_count": 514,
   "id": "cabc52ad-6f43-4eae-b183-8f72d96dc94d",
   "metadata": {},
   "outputs": [],
   "source": [
    "# r = []\n",
    "# for state in states\n",
    "#      push!(r, clicksfromfullstate(full_output_state(UN, state)))\n",
    "# end\n",
    "\n",
    "# for i in 1:length(states), j in i+1:length(states)\n",
    "#     if commonelements(map(x->x[3], r[i]), map(x->x[3], r[j])) \n",
    "#         println(\"i:$i, j:$j\")\n",
    "#     end\n",
    "# end"
   ]
  },
  {
   "cell_type": "markdown",
   "id": "d95a1f93-60a1-42ea-ad41-b76657b53dd9",
   "metadata": {
    "tags": []
   },
   "source": [
    "# Quitter"
   ]
  },
  {
   "cell_type": "markdown",
   "id": "190569d1-d2a6-4d5b-ad2c-0ae6c777af07",
   "metadata": {
    "jp-MarkdownHeadingCollapsed": true,
    "tags": []
   },
   "source": [
    "## Can we distinguish W/M states?"
   ]
  },
  {
   "cell_type": "code",
   "execution_count": 540,
   "id": "bbfc8755-1fdb-431c-a20c-c40ffca159ce",
   "metadata": {},
   "outputs": [
    {
     "data": {
      "text/plain": [
       "4×4 Matrix{Float64}:\n",
       " 0.5   0.5   0.5   0.5\n",
       " 0.5   0.5  -0.5  -0.5\n",
       " 0.5  -0.5   0.5  -0.5\n",
       " 0.5  -0.5  -0.5   0.5"
      ]
     },
     "execution_count": 540,
     "metadata": {},
     "output_type": "execute_result"
    }
   ],
   "source": [
    "# Symmetric 4-port beam splitters are constrained to the following form\n",
    "ϕv = 0\n",
    "U = ComplexF64[\n",
    "    1         1         1         1\n",
    "    1   exp(1im * ϕv)  -1  -exp(1im * ϕv)\n",
    "    1        -1         1        -1\n",
    "    1  -exp(1im * ϕv)  -1   exp(1im * ϕv)\n",
    "] / 2\n",
    "# Uk = kron(U, [1 0; 0 1])\n",
    "# sparsify.(convert(Array{Int}, 2U))\n",
    "sparsify.(U)"
   ]
  },
  {
   "cell_type": "code",
   "execution_count": 545,
   "id": "dc21401a-cb71-499b-ba19-7593217c4747",
   "metadata": {},
   "outputs": [],
   "source": [
    "states = [\n",
    "    [W(U * 2 * [i == j ? 1 : 0 for i in 1:4]...) for j in 1:4]...,\n",
    "    [M(U * 2 * [i == j ? 1 : 0 for i in 1:4]...) for j in 1:4]...,\n",
    "    GHZ(1, N=4), GHZ(2, N=4), \n",
    "    K(1), K(2), K(3), K(4), K(5), K(6)\n",
    "];"
   ]
  },
  {
   "cell_type": "code",
   "execution_count": 526,
   "id": "60e64b6f-2c44-4b51-8331-2734ce4ecbd2",
   "metadata": {},
   "outputs": [],
   "source": [
    "# Us = symmetricunitary(4)"
   ]
  },
  {
   "cell_type": "code",
   "execution_count": 527,
   "id": "36857527-ab74-40c2-ae1f-7a5178d4682e",
   "metadata": {},
   "outputs": [],
   "source": [
    "# states = [\n",
    "      # [W(Us * [i == j ? 1 : 0 for i in 1:4]...) for j in 1:4]...,\n",
    "      # [M(Us * [i == j ? 1 : 0 for i in 1:4]...) for j in 1:4]...,\n",
    "#     GHZ(1, N=4), GHZ(2, N=4), \n",
    "#     K(1), K(2), K(3), K(4), K(5), K(6)\n",
    "# ];"
   ]
  },
  {
   "cell_type": "code",
   "execution_count": 546,
   "id": "b1b90a01-cbab-494f-b2cf-095fae2ec649",
   "metadata": {},
   "outputs": [
    {
     "name": "stdout",
     "output_type": "stream",
     "text": [
      "i:9, j:10\n",
      "i:11, j:16\n",
      "i:12, j:15\n",
      "i:13, j:14\n"
     ]
    }
   ],
   "source": [
    "r = []\n",
    "for state in states\n",
    "     push!(r, singlephotonclicks(U, state))\n",
    "end\n",
    "\n",
    "for i in 1:length(states), j in i+1:length(states)\n",
    "    if commonelements(map(x->x[3], r[i]), map(x->x[3], r[j])) \n",
    "        println(\"i:$i, j:$j\")\n",
    "    end\n",
    "end"
   ]
  },
  {
   "cell_type": "code",
   "execution_count": 547,
   "id": "0e114df2-4bfe-47e4-b1da-f6d9d7a263bb",
   "metadata": {},
   "outputs": [
    {
     "data": {
      "text/plain": [
       "4-element Vector{Any}:\n",
       " Any[\"H2 H3 H4 V2\", 0.0625, [0, 0, 1, 1, 1, 0, 1, 0]]\n",
       " Any[\"H1 H2 H4 V4\", 0.0625, [1, 0, 1, 0, 0, 0, 1, 1]]\n",
       " Any[\"H1 H2 H3 V3\", 0.0625, [1, 0, 1, 0, 1, 1, 0, 0]]\n",
       " Any[\"H1 H3 H4 V1\", 0.0625, [1, 1, 0, 0, 1, 0, 1, 0]]"
      ]
     },
     "execution_count": 547,
     "metadata": {},
     "output_type": "execute_result"
    }
   ],
   "source": [
    "r[2]"
   ]
  },
  {
   "cell_type": "markdown",
   "id": "f51d2d0d-21ab-4c5c-b6d3-851598db5f8e",
   "metadata": {},
   "source": [
    "## error analysis"
   ]
  },
  {
   "cell_type": "code",
   "execution_count": 25,
   "id": "1664ff95-b47a-4e73-a65d-5353607f5715",
   "metadata": {},
   "outputs": [
    {
     "data": {
      "text/plain": [
       "16"
      ]
     },
     "execution_count": 25,
     "metadata": {},
     "output_type": "execute_result"
    }
   ],
   "source": [
    "Threads.nthreads()"
   ]
  },
  {
   "cell_type": "code",
   "execution_count": 26,
   "id": "a73c26b6-f3c5-4548-bc3f-17ef9afb2750",
   "metadata": {},
   "outputs": [
    {
     "data": {
      "text/plain": [
       "Unoisy (generic function with 1 method)"
      ]
     },
     "execution_count": 26,
     "metadata": {},
     "output_type": "execute_result"
    }
   ],
   "source": [
    "function Unoisy(σ1, σ2)\n",
    "    function vtest(v)\n",
    "        v = randn()\n",
    "        if v > 0.5\n",
    "            v = 0.5\n",
    "        elseif v < -0.5\n",
    "            v = -0.5\n",
    "        end\n",
    "        return v\n",
    "    end\n",
    "    Tmn(4, 3, acos(√(0.5 + σ1 * vtest(randn()))), σ2 * randn(), convention=\"asymmetric\") * \n",
    "    Tmn(4, 1, acos(√(0.5 + σ1 * vtest(randn()))), σ2 * randn(), convention=\"asymmetric\") * \n",
    "    swap(4, 2, 3) * \n",
    "    Tmn(4, 3, acos(√(0.5 + σ1 * vtest(randn()))), σ2 * randn(), convention=\"asymmetric\") * \n",
    "    Tmn(4, 1, acos(√(0.5 + σ1 * vtest(randn()))), σ2 * randn(), convention=\"asymmetric\") \n",
    "end"
   ]
  },
  {
   "cell_type": "code",
   "execution_count": 27,
   "id": "44df0cd7-28b9-48f2-8ae0-84f938696383",
   "metadata": {},
   "outputs": [
    {
     "data": {
      "text/plain": [
       "4×4 Matrix{Float64}:\n",
       " 0.5   0.5   0.5   0.5\n",
       " 0.5   0.5  -0.5  -0.5\n",
       " 0.5  -0.5   0.5  -0.5\n",
       " 0.5  -0.5  -0.5   0.5"
      ]
     },
     "execution_count": 27,
     "metadata": {},
     "output_type": "execute_result"
    }
   ],
   "source": [
    "U = sparsify.(Unoisy(0, 0))"
   ]
  },
  {
   "cell_type": "code",
   "execution_count": 28,
   "id": "7f9be780-3f12-4d56-8265-8e30d161b641",
   "metadata": {},
   "outputs": [],
   "source": [
    "states = Dict()\n",
    "for i in 1:4\n",
    "    states[\"W\" * string(i)] = W(2U * [i == j ? 1 : 0 for j in 1:4]...)\n",
    "    states[\"M\" * string(i)] = M(2U * [i == j ? 1 : 0 for j in 1:4]...)\n",
    "    if i <= 2\n",
    "        states[\"GHZ\" * string(i)] = GHZ(i, N=4)\n",
    "    end\n",
    "end\n",
    "for i in 1:6\n",
    "    states[\"K\" * string(i)] = K(i)\n",
    "end"
   ]
  },
  {
   "cell_type": "code",
   "execution_count": 29,
   "id": "364c7eec-5bd8-4e2a-88fb-8b8c14f22590",
   "metadata": {},
   "outputs": [],
   "source": [
    "correct_clicks = Dict(key => [] for key in keys(states))\n",
    "for state in keys(states)\n",
    "     push!(correct_clicks[state], map(x -> x[3], singlephotonclicks(U, states[state]))...)\n",
    "end"
   ]
  },
  {
   "cell_type": "code",
   "execution_count": 30,
   "id": "ee4552ac-61bb-4360-a636-fa825fb7df95",
   "metadata": {},
   "outputs": [
    {
     "data": {
      "text/plain": [
       "noiserun (generic function with 1 method)"
      ]
     },
     "execution_count": 30,
     "metadata": {},
     "output_type": "execute_result"
    }
   ],
   "source": [
    "function noiserun(σreflection, σphase)    \n",
    "    Un = Unoisy(σreflection, σphase)\n",
    "    truepositive = 0\n",
    "    falsepositive = 0\n",
    "\n",
    "    noisy_outputs = Dict(key => [] for key in keys(states))\n",
    "    for state in keys(states)\n",
    "        push!(noisy_outputs[state], singlephotonclicks(Un, states[state])...)\n",
    "    end\n",
    "\n",
    "    for state in keys(states)\n",
    "        if state[1] in ['M', 'W']\n",
    "            for otherstate in keys(states)\n",
    "                for clicks in correct_clicks[state]\n",
    "                    for output in noisy_outputs[otherstate]\n",
    "                        if clicks == output[3]\n",
    "                            if otherstate == state\n",
    "                                # println(output)\n",
    "                                truepositive += output[2]\n",
    "                            else\n",
    "                            falsepositive += output[2]\n",
    "                            end\n",
    "                            break\n",
    "                        end\n",
    "                    end\n",
    "                end\n",
    "            end\n",
    "        end\n",
    "    end\n",
    "\n",
    "    # divide by number of M/W states\n",
    "    truepositive /= 8 \n",
    "    falsepositive /= 8\n",
    "    return truepositive, falsepositive\n",
    "end"
   ]
  },
  {
   "cell_type": "code",
   "execution_count": 61,
   "id": "76899aa6-075c-44ef-b1de-3a5f4dc03381",
   "metadata": {},
   "outputs": [
    {
     "name": "stdout",
     "output_type": "stream",
     "text": [
      " 47.146069 seconds (2.60 G allocations: 122.136 GiB, 32.94% gc time, 0.10% compilation time)\n"
     ]
    }
   ],
   "source": [
    "@time begin \n",
    "    N = 100\n",
    "    L = 10\n",
    "    σlist_both = collect(range(0, stop=0.6, length=L))\n",
    "    σlist_reflection = collect(range(0, stop=0.6, length=L))\n",
    "    σlist_phase = collect(range(0, stop=1.5, length=L))\n",
    "    truepositive_both = zeros(L)\n",
    "    falsepositive_both = zeros(L)\n",
    "    truepositive_reflection = zeros(L)\n",
    "    falsepositive_reflection = zeros(L)\n",
    "    truepositive_phase = zeros(L)\n",
    "    falsepositive_phase = zeros(L)\n",
    "\n",
    "    Threads.@threads for σi in 1:L\n",
    "        tp_both = 0\n",
    "        fp_both = 0\n",
    "        tp_reflection = 0\n",
    "        fp_reflection = 0\n",
    "        tp_phase = 0\n",
    "        fp_phase = 0\n",
    "        \n",
    "        for _ in 1:N\n",
    "            tp_newest_both, fp_newest_both = noiserun(σlist_both[σi], σlist_both[σi])\n",
    "            tp_both += tp_newest_both / N\n",
    "            fp_both += fp_newest_both / N\n",
    "            tp_newest_reflection, fp_newest_reflection = noiserun(σlist_reflection[σi], 0)\n",
    "            tp_reflection += tp_newest_reflection / N\n",
    "            fp_reflection += fp_newest_reflection / N\n",
    "            tp_newest_phase, fp_newest_phase = noiserun(0, σlist_phase[σi])\n",
    "            tp_phase += tp_newest_phase / N\n",
    "            fp_phase += fp_newest_phase / N\n",
    "        end\n",
    "        truepositive_both[σi] = tp_both\n",
    "        falsepositive_both[σi] = fp_both\n",
    "        truepositive_reflection[σi] = tp_reflection\n",
    "        falsepositive_reflection[σi] = fp_reflection\n",
    "        truepositive_phase[σi] = tp_phase\n",
    "        falsepositive_phase[σi] = fp_phase\n",
    "    end\n",
    "end"
   ]
  },
  {
   "cell_type": "code",
   "execution_count": null,
   "id": "9c71dceb-b343-417d-98ba-523d69066d56",
   "metadata": {},
   "outputs": [],
   "source": []
  },
  {
   "cell_type": "code",
   "execution_count": null,
   "id": "8ef7991e-944a-4dca-abd7-41ebbfe3299f",
   "metadata": {},
   "outputs": [],
   "source": []
  },
  {
   "cell_type": "code",
   "execution_count": null,
   "id": "dd388657-1d57-4896-9a67-72d529419d97",
   "metadata": {},
   "outputs": [],
   "source": []
  },
  {
   "cell_type": "code",
   "execution_count": 60,
   "id": "8f4af4e7-a94c-49e4-a958-e57fbe280629",
   "metadata": {},
   "outputs": [
    {
     "data": {
      "text/plain": [
       "100"
      ]
     },
     "execution_count": 60,
     "metadata": {},
     "output_type": "execute_result"
    }
   ],
   "source": [
    "length(truepositive_both)"
   ]
  },
  {
   "cell_type": "code",
   "execution_count": 66,
   "id": "8872fbae-cf81-4af4-be47-e962267278b8",
   "metadata": {},
   "outputs": [
    {
     "name": "stderr",
     "output_type": "stream",
     "text": [
      "sys:1: UserWarning: Matplotlib is currently using agg, which is a non-GUI backend, so cannot show the figure.\n"
     ]
    },
    {
     "data": {
      "image/png": "[encoded data removed]",
      "text/plain": [
       "PyPlot.Figure(PyObject <Figure size 1500x500 with 3 Axes>)"
      ]
     },
     "metadata": {},
     "output_type": "display_data"
    }
   ],
   "source": [
    "fig, ax = plt.subplots(1, 3, figsize=(15, 5))\n",
    "\n",
    "l1 = ax[3].plot(σlist_both, truepositive_both, label=\"true positive\", marker=\"o\")\n",
    "l2 = ax[3].plot(σlist_both, falsepositive_both, label=\"false positive\", marker=\"o\")\n",
    "l1[1].set_clip_on(false)\n",
    "l2[1].set_clip_on(false)\n",
    "ax[3].set_xlim(σlist_both[1], σlist_both[end])\n",
    "\n",
    "l1 = ax[2].plot(σlist_reflection, truepositive_reflection, marker=\"o\")\n",
    "l2 = ax[2].plot(σlist_reflection, falsepositive_reflection, marker=\"o\")\n",
    "l1[1].set_clip_on(false)\n",
    "l2[1].set_clip_on(false)\n",
    "ax[2].set_xlim(σlist_reflection[1], σlist_reflection[end])\n",
    "\n",
    "l1 = ax[1].plot(σlist_phase, truepositive_phase, marker=\"o\")\n",
    "l2 = ax[1].plot(σlist_phase, falsepositive_phase, marker=\"o\")\n",
    "l1[1].set_clip_on(false)\n",
    "l2[1].set_clip_on(false)\n",
    "ax[1].set_xlim(σlist_phase[1], σlist_phase[end])\n",
    "\n",
    "for i in 1:3\n",
    "    ax[i].set_ylim(0, 0.26)\n",
    "    ax[i].grid(true, alpha=0.2)\n",
    "end\n",
    "ax[3].legend(fontsize=15, loc=1)\n",
    "ax[1].set_ylabel(\"Probability\", fontsize=20)\n",
    "ax[1].set_xlabel(\"std (radians)\", fontsize=20)\n",
    "ax[2].set_xlabel(\"std\\n(fraction of full reflection)\", fontsize=20)\n",
    "ax[3].set_xlabel(\"std (σ)\", fontsize=20)\n",
    "\n",
    "ax[1].set_title(\"Noise on phase\", fontsize=20)\n",
    "ax[2].set_title(\"Noise on reflection\", fontsize=20)\n",
    "ax[3].set_title(\"Noise on both\", fontsize=20)\n",
    "plt.savefig(\"quitter_noise_analysis.pdf\")\n",
    "plt.show()"
   ]
  },
  {
   "cell_type": "code",
   "execution_count": null,
   "id": "3b68d6fa-0a2a-4ca3-a463-0bd693e3980d",
   "metadata": {},
   "outputs": [],
   "source": []
  }
 ],
 "metadata": {
  "kernelspec": {
   "display_name": "Julia 1.7.3",
   "language": "julia",
   "name": "julia-1.7"
  },
  "language_info": {
   "file_extension": ".jl",
   "mimetype": "application/julia",
   "name": "julia",
   "version": "1.7.3"
  }
 },
 "nbformat": 4,
 "nbformat_minor": 5
}
